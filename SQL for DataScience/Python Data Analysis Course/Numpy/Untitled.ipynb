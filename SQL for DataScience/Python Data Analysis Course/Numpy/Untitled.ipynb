{
 "cells": [
  {
   "cell_type": "code",
   "execution_count": 1,
   "id": "2053e056",
   "metadata": {},
   "outputs": [],
   "source": [
    "\n",
    "import numpy as np #used for mathatical operations what it do it is in c++ it compiled to python then run the output which make it faster than python list as it is not in python"
   ]
  },
  {
   "cell_type": "code",
   "execution_count": 5,
   "id": "08dd83a2",
   "metadata": {},
   "outputs": [],
   "source": [
    "#python list \n",
    "ar1=list(range(100000))\n",
    "ar2=list(range(100000,2000000))\n"
   ]
  },
  {
   "cell_type": "code",
   "execution_count": 6,
   "id": "e12afdec",
   "metadata": {},
   "outputs": [
    {
     "name": "stdout",
     "output_type": "stream",
     "text": [
      "Wall time: 26 ms\n"
     ]
    },
    {
     "data": {
      "text/plain": [
       "833323333350000"
      ]
     },
     "execution_count": 6,
     "metadata": {},
     "output_type": "execute_result"
    }
   ],
   "source": [
    "%%time\n",
    "result=0\n",
    "for x1,x2 in zip(ar1,ar2):\n",
    "    result+=x1*x2\n",
    "result"
   ]
  },
  {
   "cell_type": "code",
   "execution_count": 11,
   "id": "027bcf2f",
   "metadata": {},
   "outputs": [
    {
     "ename": "ValueError",
     "evalue": "shapes (100000,) and (1900000,) not aligned: 100000 (dim 0) != 1900000 (dim 0)",
     "output_type": "error",
     "traceback": [
      "\u001b[1;31m---------------------------------------------------------------------------\u001b[0m",
      "\u001b[1;31mValueError\u001b[0m                                Traceback (most recent call last)",
      "\u001b[1;32m~\\AppData\\Local\\Temp/ipykernel_8868/708548104.py\u001b[0m in \u001b[0;36m<module>\u001b[1;34m\u001b[0m\n\u001b[0;32m      5\u001b[0m \u001b[0marr2_n\u001b[0m\u001b[1;33m=\u001b[0m\u001b[0mnp\u001b[0m\u001b[1;33m.\u001b[0m\u001b[0marray\u001b[0m\u001b[1;33m(\u001b[0m\u001b[0mar2\u001b[0m\u001b[1;33m)\u001b[0m\u001b[1;33m\u001b[0m\u001b[1;33m\u001b[0m\u001b[0m\n\u001b[0;32m      6\u001b[0m \u001b[1;33m\u001b[0m\u001b[0m\n\u001b[1;32m----> 7\u001b[1;33m \u001b[0mnp\u001b[0m\u001b[1;33m.\u001b[0m\u001b[0mdot\u001b[0m\u001b[1;33m(\u001b[0m\u001b[0marr1_n\u001b[0m\u001b[1;33m,\u001b[0m\u001b[0marr2_n\u001b[0m\u001b[1;33m)\u001b[0m\u001b[1;33m\u001b[0m\u001b[1;33m\u001b[0m\u001b[0m\n\u001b[0m",
      "\u001b[1;32m<__array_function__ internals>\u001b[0m in \u001b[0;36mdot\u001b[1;34m(*args, **kwargs)\u001b[0m\n",
      "\u001b[1;31mValueError\u001b[0m: shapes (100000,) and (1900000,) not aligned: 100000 (dim 0) != 1900000 (dim 0)"
     ]
    }
   ],
   "source": [
    "#with numpy function .dot multiply elements of two arrays\n",
    "\n",
    "#numpy arrays\n",
    "arr1_n=np.array(ar1)\n",
    "arr2_n=np.array(ar2)\n",
    "\n",
    "np.dot(arr1_n,arr2_n)"
   ]
  },
  {
   "cell_type": "code",
   "execution_count": 20,
   "id": "10e577c3",
   "metadata": {},
   "outputs": [
    {
     "data": {
      "text/plain": [
       "array([[73, 67, 43],\n",
       "       [63, 68, 43],\n",
       "       [78, 69, 21],\n",
       "       [23, 57, 42]])"
      ]
     },
     "execution_count": 20,
     "metadata": {},
     "output_type": "execute_result"
    }
   ],
   "source": [
    "#multi dimensional array in nupy there is list of apples produced per hectre i each temratures,rainy,sunlight etc in each list\n",
    "climate_data=np.array([[73,67,43],\n",
    "                       [63,68,43],\n",
    "                       [78,69,21],\n",
    "                       [23,57,42]])\n",
    "climate_data"
   ]
  },
  {
   "cell_type": "code",
   "execution_count": 21,
   "id": "d3d3e629",
   "metadata": {},
   "outputs": [
    {
     "data": {
      "text/plain": [
       "(4, 3)"
      ]
     },
     "execution_count": 21,
     "metadata": {},
     "output_type": "execute_result"
    }
   ],
   "source": [
    "climate_data.shape #to identify rows and columns in a matrix outpit is tuple"
   ]
  },
  {
   "cell_type": "code",
   "execution_count": 22,
   "id": "7d76d496",
   "metadata": {},
   "outputs": [
    {
     "data": {
      "text/plain": [
       "array([[[ 1,  2,  3],\n",
       "        [ 4,  6,  7]],\n",
       "\n",
       "       [[ 8,  9, 10],\n",
       "        [11, 12, 13]]])"
      ]
     },
     "execution_count": 22,
     "metadata": {},
     "output_type": "execute_result"
    }
   ],
   "source": [
    "#3d array\n",
    "arr3=np.array([[[1,2,3],[4,6,7]],\n",
    "               [[8,9,10],[11,12,13]]])\n",
    "arr3"
   ]
  },
  {
   "cell_type": "code",
   "execution_count": 23,
   "id": "8688a135",
   "metadata": {},
   "outputs": [
    {
     "data": {
      "text/plain": [
       "(2, 2, 3)"
      ]
     },
     "execution_count": 23,
     "metadata": {},
     "output_type": "execute_result"
    }
   ],
   "source": [
    "arr3.shape# (2,2,3) 2 rows in each list in 3d array and each list have  3 column\n"
   ]
  },
  {
   "cell_type": "code",
   "execution_count": 24,
   "id": "9ecfb456",
   "metadata": {},
   "outputs": [
    {
     "data": {
      "text/plain": [
       "dtype('int32')"
      ]
     },
     "execution_count": 24,
     "metadata": {},
     "output_type": "execute_result"
    }
   ],
   "source": [
    "arr3.dtype"
   ]
  },
  {
   "cell_type": "code",
   "execution_count": 25,
   "id": "4115caef",
   "metadata": {},
   "outputs": [
    {
     "data": {
      "text/plain": [
       "dtype('int32')"
      ]
     },
     "execution_count": 25,
     "metadata": {},
     "output_type": "execute_result"
    }
   ],
   "source": [
    "climate_data.dtype # all numpy elements array should be of same data type numpy has its own datatype as compared to python which has vast primitative datatypes \n"
   ]
  },
  {
   "cell_type": "code",
   "execution_count": 26,
   "id": "83850d16",
   "metadata": {},
   "outputs": [
    {
     "data": {
      "text/plain": [
       "dtype('float64')"
      ]
     },
     "execution_count": 26,
     "metadata": {},
     "output_type": "execute_result"
    }
   ],
   "source": [
    "#3d array\n",
    "#In nmpy array if anyone of the eement is in float and rest of are in int than all will convert to float if any one them is float\n",
    "arr3=np.array([[[1,2,3],[4,6,7]],\n",
    "               [[8,9,10],[11,12,13.6]]])\n",
    "arr3.dtype"
   ]
  },
  {
   "cell_type": "code",
   "execution_count": 28,
   "id": "dfe1f555",
   "metadata": {},
   "outputs": [
    {
     "data": {
      "text/plain": [
       "array([70.2, 67.6, 61.5, 50.7])"
      ]
     },
     "execution_count": 28,
     "metadata": {},
     "output_type": "execute_result"
    }
   ],
   "source": [
    "#Now matrix multiplication w1,w2,w3 is the weights of each apple produced per hactre \n",
    "weights=[0.3,0.4,0.5]\n",
    "#climate data of each region temprature,rainy,humidityseason apples produced\n",
    "#now for matrix multiplication to take out total sum of apples produced in each region on the absis of per hactre\n",
    "np.matmul(climate_data,weights)"
   ]
  },
  {
   "cell_type": "code",
   "execution_count": 29,
   "id": "dc7ba42c",
   "metadata": {},
   "outputs": [
    {
     "data": {
      "text/plain": [
       "array([70.2, 67.6, 61.5, 50.7])"
      ]
     },
     "execution_count": 29,
     "metadata": {},
     "output_type": "execute_result"
    }
   ],
   "source": [
    "#Anoher way of matrix multiplication\n",
    "climate_data @ weights"
   ]
  },
  {
   "cell_type": "code",
   "execution_count": 40,
   "id": "6a30254d",
   "metadata": {},
   "outputs": [
    {
     "name": "stdout",
     "output_type": "stream",
     "text": [
      "<_io.TextIOWrapper name='weather.txt' mode='r' encoding='cp1252'>\n"
     ]
    }
   ],
   "source": [
    "#now numpy in  txt\n",
    "f = open(\"weather.txt\", \"r\")\n",
    "print(f)"
   ]
  },
  {
   "cell_type": "code",
   "execution_count": 41,
   "id": "7340ffdf",
   "metadata": {},
   "outputs": [],
   "source": [
    "#used when file is in txt\n",
    "data=np.genfromtxt(f,delimiter=',',skip_header=1)"
   ]
  },
  {
   "cell_type": "code",
   "execution_count": 42,
   "id": "7a4082d3",
   "metadata": {},
   "outputs": [
    {
     "data": {
      "text/plain": [
       "array([[23., 56., 78.],\n",
       "       [33., 56., 78.],\n",
       "       [23., 56., 78.],\n",
       "       [12., 23., 45.],\n",
       "       [76., 98., 67.]])"
      ]
     },
     "execution_count": 42,
     "metadata": {},
     "output_type": "execute_result"
    }
   ],
   "source": [
    "data"
   ]
  },
  {
   "cell_type": "code",
   "execution_count": 43,
   "id": "ea429dfe",
   "metadata": {},
   "outputs": [
    {
     "data": {
      "text/plain": [
       "(5, 3)"
      ]
     },
     "execution_count": 43,
     "metadata": {},
     "output_type": "execute_result"
    }
   ],
   "source": [
    "data.shape\n"
   ]
  },
  {
   "cell_type": "code",
   "execution_count": 44,
   "id": "4e1a1bc8",
   "metadata": {},
   "outputs": [],
   "source": [
    "weigh=np.array([0.3,0.4,0.5])"
   ]
  },
  {
   "cell_type": "code",
   "execution_count": 47,
   "id": "5aa1257e",
   "metadata": {},
   "outputs": [
    {
     "data": {
      "text/plain": [
       "array([68.3, 71.3, 68.3, 35.3, 95.5])"
      ]
     },
     "execution_count": 47,
     "metadata": {},
     "output_type": "execute_result"
    }
   ],
   "source": [
    "#each row calculation is made of yield per hactre\n",
    "yields=data @ weigh\n",
    "yields"
   ]
  },
  {
   "cell_type": "code",
   "execution_count": 49,
   "id": "b2582512",
   "metadata": {},
   "outputs": [
    {
     "data": {
      "text/plain": [
       "(5,)"
      ]
     },
     "execution_count": 49,
     "metadata": {},
     "output_type": "execute_result"
    }
   ],
   "source": [
    "yields.shape#total number of output"
   ]
  },
  {
   "cell_type": "code",
   "execution_count": 57,
   "id": "8e083124",
   "metadata": {},
   "outputs": [
    {
     "data": {
      "text/plain": [
       "array([[23. , 56. , 78. , 68.3],\n",
       "       [33. , 56. , 78. , 71.3],\n",
       "       [23. , 56. , 78. , 68.3],\n",
       "       [12. , 23. , 45. , 35.3],\n",
       "       [76. , 98. , 67. , 95.5]])"
      ]
     },
     "execution_count": 57,
     "metadata": {},
     "output_type": "execute_result"
    }
   ],
   "source": [
    "#adding that new yild column now with numpy axis is 1 beacuse we just adding one more yield element in each list\n",
    "climate_results=np.concatenate((data,yields.reshape(5,1)),axis=1)\n",
    "climate_results"
   ]
  },
  {
   "cell_type": "code",
   "execution_count": 60,
   "id": "a9789836",
   "metadata": {},
   "outputs": [],
   "source": [
    "#now writing the new data to file\n",
    "np.savetxt('weather.txt',climate_results,fmt='%.2f',header='Temprature,Rainy,humidity,yield',comments=' ')"
   ]
  },
  {
   "cell_type": "code",
   "execution_count": 67,
   "id": "3827a424",
   "metadata": {},
   "outputs": [
    {
     "data": {
      "text/plain": [
       "53.916666666666664"
      ]
     },
     "execution_count": 67,
     "metadata": {},
     "output_type": "execute_result"
    }
   ],
   "source": [
    "#mean function in numpy\n",
    "n1=np.array([[73,67,43],\n",
    "                       [63,68,43],\n",
    "                       [78,69,21],\n",
    "                       [23,57,42]])\n",
    "\n",
    "np.mean(n1)"
   ]
  },
  {
   "cell_type": "code",
   "execution_count": 69,
   "id": "36f6d196",
   "metadata": {},
   "outputs": [
    {
     "data": {
      "text/plain": [
       "62.0"
      ]
     },
     "execution_count": 69,
     "metadata": {},
     "output_type": "execute_result"
    }
   ],
   "source": [
    "#median \n",
    "n2=np.array([[79,64,32],\n",
    "                       [13,98,83],\n",
    "                       [78,60,11],\n",
    "                       [33,37,92]])\n",
    "np.median(n2)"
   ]
  },
  {
   "cell_type": "code",
   "execution_count": 72,
   "id": "131a926e",
   "metadata": {},
   "outputs": [
    {
     "data": {
      "text/plain": [
       "array([[False,  True,  True],\n",
       "       [ True, False, False],\n",
       "       [False,  True,  True],\n",
       "       [False,  True, False]])"
      ]
     },
     "execution_count": 72,
     "metadata": {},
     "output_type": "execute_result"
    }
   ],
   "source": [
    "n1>n2"
   ]
  },
  {
   "cell_type": "code",
   "execution_count": 76,
   "id": "dbb7a313",
   "metadata": {},
   "outputs": [
    {
     "data": {
      "text/plain": [
       "6"
      ]
     },
     "execution_count": 76,
     "metadata": {},
     "output_type": "execute_result"
    }
   ],
   "source": [
    "#calcuate that how much values of n1 array are greater than n2\n",
    "(n1>n2).sum()"
   ]
  },
  {
   "cell_type": "code",
   "execution_count": 77,
   "id": "f7abb0b5",
   "metadata": {},
   "outputs": [
    {
     "data": {
      "text/plain": [
       "array([[False, False, False],\n",
       "       [False, False, False],\n",
       "       [ True, False, False],\n",
       "       [False, False, False]])"
      ]
     },
     "execution_count": 77,
     "metadata": {},
     "output_type": "execute_result"
    }
   ],
   "source": [
    "n1==n2"
   ]
  },
  {
   "cell_type": "code",
   "execution_count": 80,
   "id": "e543a3ff",
   "metadata": {},
   "outputs": [
    {
     "data": {
      "text/plain": [
       "18.377787014642312"
      ]
     },
     "execution_count": 80,
     "metadata": {},
     "output_type": "execute_result"
    }
   ],
   "source": [
    "np.std(n1)"
   ]
  },
  {
   "cell_type": "code",
   "execution_count": 79,
   "id": "d5bb59ab",
   "metadata": {},
   "outputs": [
    {
     "data": {
      "text/plain": [
       "337.7430555555556"
      ]
     },
     "execution_count": 79,
     "metadata": {},
     "output_type": "execute_result"
    }
   ],
   "source": [
    "np.var(n1)"
   ]
  },
  {
   "cell_type": "code",
   "execution_count": null,
   "id": "447bc26e",
   "metadata": {},
   "outputs": [],
   "source": []
  }
 ],
 "metadata": {
  "kernelspec": {
   "display_name": "Python 3 (ipykernel)",
   "language": "python",
   "name": "python3"
  },
  "language_info": {
   "codemirror_mode": {
    "name": "ipython",
    "version": 3
   },
   "file_extension": ".py",
   "mimetype": "text/x-python",
   "name": "python",
   "nbconvert_exporter": "python",
   "pygments_lexer": "ipython3",
   "version": "3.9.0"
  }
 },
 "nbformat": 4,
 "nbformat_minor": 5
}
