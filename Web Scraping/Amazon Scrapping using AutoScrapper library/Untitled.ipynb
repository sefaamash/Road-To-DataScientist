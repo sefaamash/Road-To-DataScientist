{
 "cells": [
  {
   "cell_type": "code",
   "execution_count": 37,
   "id": "b4edd948",
   "metadata": {},
   "outputs": [],
   "source": [
    "from autoscraper import AutoScraper\n",
    "import csv"
   ]
  },
  {
   "cell_type": "code",
   "execution_count": 38,
   "id": "2795b049",
   "metadata": {},
   "outputs": [],
   "source": [
    "url=\"https://www.amc-fresno.com/loan-officers/\"\n",
    "wantedlist=['Apple iPhone 13 Mini (128GB) - (Product) RED','₹69,900 ']\n"
   ]
  },
  {
   "cell_type": "code",
   "execution_count": 4,
   "id": "b59d3764",
   "metadata": {},
   "outputs": [
    {
     "name": "stdout",
     "output_type": "stream",
     "text": [
      "['Apple iPhone 13 Mini (128GB) - (Product) RED', 'Apple iPhone 13 Mini (256GB) - Midnight', 'Apple iPhone XR (64GB) - Yellow', 'Apple iPhone XR (128GB) - Yellow', 'Apple iPhone 11 (256GB) - Green', 'Apple iPhone 13 Mini (256GB) - Starlight', 'Apple iPhone XR (128GB) - Blue', 'Apple iPhone 12 Mini (128GB) - Green', 'Apple iPhone XR (128GB) - (Product) RED', 'Apple iPhone XR (128GB) - Black', 'Apple iPhone XR (64GB) - (Product) RED', '6G Space Grey Compatible with Apple iPhone with 8 Mega Pixel Camera (64GB Internal Memory)', 'New Apple iPhone 12 Mini (64GB) - White', 'New Apple iPhone 12 Mini (64GB) - Green', 'Apple iPhone XR (128GB) - Coral', 'Apple iPhone XR (64GB) - Coral', '₹69,900', '₹79,900', '₹34,999', '₹47,900', '₹39,999', '₹52,900', '₹64,900', '₹72,990', '₹57,800', '₹40,999', '₹33,999', '₹22,999', '₹25,999', '₹49,999', '₹59,900']\n"
     ]
    }
   ],
   "source": [
    "\n",
    "scraper=AutoScraper()\n",
    "result=scraper.build(url,wantedlist)#url that we want to scrape and list of item to be scrapped\n",
    "print(result)"
   ]
  },
  {
   "cell_type": "code",
   "execution_count": 5,
   "id": "3c6c6286",
   "metadata": {},
   "outputs": [
    {
     "data": {
      "text/plain": [
       "{'rule_zll5': ['Apple iPhone XR (64GB) - (Product) RED',\n",
       "  'Apple iPhone XR (64GB) - Coral',\n",
       "  'Apple iPhone XR (128GB) - (Product) RED',\n",
       "  'Apple iPhone XR (128GB) - Black',\n",
       "  'Apple iPhone 13 Mini (256GB) - Midnight',\n",
       "  'Apple iPhone 13 Mini (128GB) - (Product) RED',\n",
       "  'Apple iPhone XR (64GB) - Yellow',\n",
       "  'Apple iPhone 13 Mini (256GB) - Pink',\n",
       "  '6G Space Grey Compatible with Apple iPhone with 8 Mega Pixel Camera (64GB Internal Memory)',\n",
       "  '6G Gold Compatible with Apple iPhone with 8 Mega Pixel Camera (64GB Internal Memory)',\n",
       "  'Apple iPhone 12 Mini (128GB) - Green',\n",
       "  'Apple iPhone XR (128GB) - Yellow',\n",
       "  'Apple iPhone XR (128GB) - Blue',\n",
       "  'New Apple iPhone 12 Mini (64GB) - White',\n",
       "  'Apple iPhone 13 Mini (256GB) - Blue',\n",
       "  '5S Gold Compatible with Apple iPhone with 8 Mega Pixel Camera(16GB Internal Memory)'],\n",
       " 'rule_v7ou': ['Apple iPhone XR (64GB) - (Product) RED',\n",
       "  'Apple iPhone XR (64GB) - Coral',\n",
       "  'Apple iPhone XR (128GB) - (Product) RED',\n",
       "  'Apple iPhone XR (128GB) - Black',\n",
       "  'Apple iPhone 13 Mini (256GB) - Midnight',\n",
       "  'Apple iPhone 13 Mini (128GB) - (Product) RED',\n",
       "  'Apple iPhone XR (64GB) - Yellow',\n",
       "  'Apple iPhone 13 Mini (256GB) - Pink',\n",
       "  '6G Space Grey Compatible with Apple iPhone with 8 Mega Pixel Camera (64GB Internal Memory)',\n",
       "  '6G Gold Compatible with Apple iPhone with 8 Mega Pixel Camera (64GB Internal Memory)',\n",
       "  'Apple iPhone 12 Mini (128GB) - Green',\n",
       "  'Apple iPhone XR (128GB) - Yellow',\n",
       "  'Apple iPhone XR (128GB) - Blue',\n",
       "  'New Apple iPhone 12 Mini (64GB) - White',\n",
       "  'Apple iPhone 13 Mini (256GB) - Blue',\n",
       "  '5S Gold Compatible with Apple iPhone with 8 Mega Pixel Camera(16GB Internal Memory)'],\n",
       " 'rule_c1dg': ['₹33,999',\n",
       "  '₹47,900',\n",
       "  '₹34,999',\n",
       "  '₹47,900',\n",
       "  '₹39,999',\n",
       "  '₹57,800',\n",
       "  '₹40,999',\n",
       "  '₹52,900',\n",
       "  '₹79,900',\n",
       "  '₹69,900',\n",
       "  '₹34,999',\n",
       "  '₹47,900',\n",
       "  '₹79,900',\n",
       "  '₹22,999',\n",
       "  '₹25,999',\n",
       "  '₹21,999',\n",
       "  '₹25,999',\n",
       "  '₹64,900',\n",
       "  '₹72,990',\n",
       "  '₹39,999',\n",
       "  '₹52,900',\n",
       "  '₹39,999',\n",
       "  '₹52,900',\n",
       "  '₹49,999',\n",
       "  '₹69,900',\n",
       "  '₹79,900',\n",
       "  '₹14,999',\n",
       "  '₹24,999'],\n",
       " 'rule_7mao': ['₹33,999',\n",
       "  '₹47,900',\n",
       "  '₹34,999',\n",
       "  '₹47,900',\n",
       "  '₹39,999',\n",
       "  '₹57,800',\n",
       "  '₹40,999',\n",
       "  '₹52,900',\n",
       "  '₹79,900',\n",
       "  '₹69,900',\n",
       "  '₹34,999',\n",
       "  '₹47,900',\n",
       "  '₹79,900',\n",
       "  '₹22,999',\n",
       "  '₹25,999',\n",
       "  '₹21,999',\n",
       "  '₹25,999',\n",
       "  '₹64,900',\n",
       "  '₹72,990',\n",
       "  '₹39,999',\n",
       "  '₹52,900',\n",
       "  '₹39,999',\n",
       "  '₹52,900',\n",
       "  '₹49,999',\n",
       "  '₹69,900',\n",
       "  '₹79,900',\n",
       "  '₹14,999',\n",
       "  '₹24,999'],\n",
       " 'rule_o62u': ['₹33,999',\n",
       "  '₹47,900',\n",
       "  '₹34,999',\n",
       "  '₹47,900',\n",
       "  '₹39,999',\n",
       "  '₹57,800',\n",
       "  '₹40,999',\n",
       "  '₹52,900',\n",
       "  '₹79,900',\n",
       "  '₹69,900',\n",
       "  '₹34,999',\n",
       "  '₹47,900',\n",
       "  '₹79,900',\n",
       "  '₹22,999',\n",
       "  '₹25,999',\n",
       "  '₹21,999',\n",
       "  '₹25,999',\n",
       "  '₹64,900',\n",
       "  '₹72,990',\n",
       "  '₹39,999',\n",
       "  '₹52,900',\n",
       "  '₹39,999',\n",
       "  '₹52,900',\n",
       "  '₹49,999',\n",
       "  '₹69,900',\n",
       "  '₹79,900',\n",
       "  '₹14,999',\n",
       "  '₹24,999'],\n",
       " 'rule_e81x': ['₹33,999',\n",
       "  '₹47,900',\n",
       "  '₹34,999',\n",
       "  '₹47,900',\n",
       "  '₹39,999',\n",
       "  '₹57,800',\n",
       "  '₹40,999',\n",
       "  '₹52,900',\n",
       "  '₹79,900',\n",
       "  '₹69,900',\n",
       "  '₹34,999',\n",
       "  '₹47,900',\n",
       "  '₹79,900',\n",
       "  '₹22,999',\n",
       "  '₹25,999',\n",
       "  '₹21,999',\n",
       "  '₹25,999',\n",
       "  '₹64,900',\n",
       "  '₹72,990',\n",
       "  '₹39,999',\n",
       "  '₹52,900',\n",
       "  '₹39,999',\n",
       "  '₹52,900',\n",
       "  '₹49,999',\n",
       "  '₹69,900',\n",
       "  '₹79,900',\n",
       "  '₹14,999',\n",
       "  '₹24,999'],\n",
       " 'rule_v5a5': ['₹33,999',\n",
       "  '₹47,900',\n",
       "  '₹34,999',\n",
       "  '₹47,900',\n",
       "  '₹39,999',\n",
       "  '₹57,800',\n",
       "  '₹40,999',\n",
       "  '₹52,900',\n",
       "  '₹79,900',\n",
       "  '₹69,900',\n",
       "  '₹34,999',\n",
       "  '₹47,900',\n",
       "  '₹79,900',\n",
       "  '₹22,999',\n",
       "  '₹25,999',\n",
       "  '₹21,999',\n",
       "  '₹25,999',\n",
       "  '₹64,900',\n",
       "  '₹72,990',\n",
       "  '₹39,999',\n",
       "  '₹52,900',\n",
       "  '₹39,999',\n",
       "  '₹52,900',\n",
       "  '₹49,999',\n",
       "  '₹69,900',\n",
       "  '₹79,900',\n",
       "  '₹14,999',\n",
       "  '₹24,999'],\n",
       " 'rule_hofc': ['₹33,999',\n",
       "  '₹47,900',\n",
       "  '₹34,999',\n",
       "  '₹47,900',\n",
       "  '₹39,999',\n",
       "  '₹57,800',\n",
       "  '₹40,999',\n",
       "  '₹52,900',\n",
       "  '₹79,900',\n",
       "  '₹69,900',\n",
       "  '₹34,999',\n",
       "  '₹47,900',\n",
       "  '₹79,900',\n",
       "  '₹22,999',\n",
       "  '₹25,999',\n",
       "  '₹21,999',\n",
       "  '₹25,999',\n",
       "  '₹64,900',\n",
       "  '₹72,990',\n",
       "  '₹39,999',\n",
       "  '₹52,900',\n",
       "  '₹39,999',\n",
       "  '₹52,900',\n",
       "  '₹49,999',\n",
       "  '₹69,900',\n",
       "  '₹79,900',\n",
       "  '₹14,999',\n",
       "  '₹24,999'],\n",
       " 'rule_yxf4': ['₹33,999',\n",
       "  '₹47,900',\n",
       "  '₹34,999',\n",
       "  '₹47,900',\n",
       "  '₹39,999',\n",
       "  '₹57,800',\n",
       "  '₹40,999',\n",
       "  '₹52,900',\n",
       "  '₹79,900',\n",
       "  '₹69,900',\n",
       "  '₹34,999',\n",
       "  '₹47,900',\n",
       "  '₹79,900',\n",
       "  '₹22,999',\n",
       "  '₹25,999',\n",
       "  '₹21,999',\n",
       "  '₹25,999',\n",
       "  '₹64,900',\n",
       "  '₹72,990',\n",
       "  '₹39,999',\n",
       "  '₹52,900',\n",
       "  '₹39,999',\n",
       "  '₹52,900',\n",
       "  '₹49,999',\n",
       "  '₹69,900',\n",
       "  '₹79,900',\n",
       "  '₹14,999',\n",
       "  '₹24,999'],\n",
       " 'rule_bmy7': ['₹33,999',\n",
       "  '₹47,900',\n",
       "  '₹34,999',\n",
       "  '₹47,900',\n",
       "  '₹39,999',\n",
       "  '₹57,800',\n",
       "  '₹40,999',\n",
       "  '₹52,900',\n",
       "  '₹79,900',\n",
       "  '₹69,900',\n",
       "  '₹34,999',\n",
       "  '₹47,900',\n",
       "  '₹79,900',\n",
       "  '₹22,999',\n",
       "  '₹25,999',\n",
       "  '₹21,999',\n",
       "  '₹25,999',\n",
       "  '₹64,900',\n",
       "  '₹72,990',\n",
       "  '₹39,999',\n",
       "  '₹52,900',\n",
       "  '₹39,999',\n",
       "  '₹52,900',\n",
       "  '₹49,999',\n",
       "  '₹69,900',\n",
       "  '₹79,900',\n",
       "  '₹14,999',\n",
       "  '₹24,999']}"
      ]
     },
     "execution_count": 5,
     "metadata": {},
     "output_type": "execute_result"
    }
   ],
   "source": [
    "#getting the title and price grouped in each of seperate group\n",
    "scraper.get_result_similar(url,grouped=True)"
   ]
  },
  {
   "cell_type": "code",
   "execution_count": 6,
   "id": "709046f7",
   "metadata": {},
   "outputs": [],
   "source": [
    "#setting rule for every page and now getting the title and price with their group name that we do above\n",
    "scraper.set_rule_aliases({'rule_zll5':'Title','rule_c1dg':'Price'})\n",
    "scraper.keep_rules(['rule_zll5','rule_c1dg'])\n",
    "scraper.save('amazon-search')"
   ]
  },
  {
   "cell_type": "code",
   "execution_count": 30,
   "id": "6f02f2e8",
   "metadata": {},
   "outputs": [],
   "source": [
    "#we set it above the grup for title and price now we can use it getresultsimilar for all other links and pages\n",
    "results=scraper.get_result_similar('https://www.amazon.in/s?k=mi+phones+under+15000&page=2&qid=1641042624&ref=sr_pg_2',group_by_alias=True)\n"
   ]
  },
  {
   "cell_type": "code",
   "execution_count": 32,
   "id": "e4609643",
   "metadata": {},
   "outputs": [
    {
     "data": {
      "text/plain": [
       "['₹11,290',\n",
       " '₹11,999',\n",
       " '₹10,250',\n",
       " '₹12,999',\n",
       " '₹11,490',\n",
       " '₹11,999',\n",
       " '₹14,490',\n",
       " '₹17,990',\n",
       " '₹12,999',\n",
       " '₹14,999',\n",
       " '₹1,299',\n",
       " '₹1,999',\n",
       " '₹11,499',\n",
       " '₹12,999',\n",
       " '₹14,999',\n",
       " '₹16,999',\n",
       " '₹12,990',\n",
       " '₹15,990']"
      ]
     },
     "execution_count": 32,
     "metadata": {},
     "output_type": "execute_result"
    }
   ],
   "source": [
    "#now we can get the title and price by result[\"price\"]\n",
    "results['Price']"
   ]
  },
  {
   "cell_type": "code",
   "execution_count": 33,
   "id": "5621bede",
   "metadata": {},
   "outputs": [
    {
     "name": "stdout",
     "output_type": "stream",
     "text": [
      "{'Title': ['Mi Redmi Note 7S Smartphone (Onyx Black, 32 GB, 3 GB RAM)', 'REDMI 9i Sport (Coral Green, 64 GB) (4 GB RAM)', '(Renewed) Redmi 6 Pro (Gold, 3GB RAM, 32GB Storage)', '(Renewed) Redmi 6 Pro (Black, 3GB RAM, 32GB Storage)', '(Renewed) Redmi Note 5 MZB5916IN (Black, 64GB)', 'Xiaomi MI Redmi Note 7S 32GB/3GB (Moonlight White)', 'Redmi Note 6 Pro (Blue, 6GB RAM, 64GB Storage)', '(Renewed) Redmi Y3 (Bold Red, 3GB RAM, 32MP Selfie Camera, 32GB Storage, 4000mAH Battery)', '(Renewed) Redmi Note 6 Pro (Black, 64 GB, 4 GB RAM)', '(Renewed) Mi A1 (Black, 64GB)', '(Renewed) Xiaomi Redmi Note 3 (Gold, 32GB)', 'Samsung Galaxy M21 2021 Edition (Arctic Blue, 4GB RAM, 64GB Storage) | FHD+ sAMOLED | 6 Months Free Screen Replacement for Prime (SM-M215GLBDINS)', 'Nillkin Case for Xiaomi Mi 11 Ultra (6.81\" Inch) Super Frosted Hard Back Cover PC Peacock Blue Color', 'Samsung Galaxy M12 (Black,4GB RAM, 64GB Storage) 6000 mAh with 8nm Processor | True 48 MP Quad Camera | 90Hz Refresh Rate', 'Samsung Galaxy M32 (Light Blue, 4GB RAM, 64GB Storage) 6 Months Free Screen Replacement for Prime', 'OPPO A31 (Fantasy White, 6GB RAM, 128GB Storage) with No Cost EMI/Additional Exchange Offers'], 'Price': ['₹11,290', '₹11,999', '₹10,250', '₹12,999', '₹11,490', '₹11,999', '₹14,490', '₹17,990', '₹12,999', '₹14,999', '₹1,299', '₹1,999', '₹11,499', '₹12,999', '₹14,999', '₹16,999', '₹12,990', '₹15,990']}\n"
     ]
    }
   ],
   "source": [
    "print(results)"
   ]
  },
  {
   "cell_type": "code",
   "execution_count": 19,
   "id": "9f023e5f",
   "metadata": {},
   "outputs": [
    {
     "data": {
      "text/plain": [
       "13"
      ]
     },
     "execution_count": 19,
     "metadata": {},
     "output_type": "execute_result"
    }
   ],
   "source": []
  },
  {
   "cell_type": "code",
   "execution_count": 36,
   "id": "bc5597fa",
   "metadata": {},
   "outputs": [
    {
     "name": "stdout",
     "output_type": "stream",
     "text": [
      "Mi Redmi Note 7S Smartphone (Onyx Black, 32 GB, 3 GB RAM) ₹11,290\n",
      "REDMI 9i Sport (Coral Green, 64 GB) (4 GB RAM) ₹11,999\n",
      "(Renewed) Redmi 6 Pro (Gold, 3GB RAM, 32GB Storage) ₹10,250\n",
      "(Renewed) Redmi 6 Pro (Black, 3GB RAM, 32GB Storage) ₹12,999\n",
      "(Renewed) Redmi Note 5 MZB5916IN (Black, 64GB) ₹11,490\n",
      "Xiaomi MI Redmi Note 7S 32GB/3GB (Moonlight White) ₹11,999\n",
      "Redmi Note 6 Pro (Blue, 6GB RAM, 64GB Storage) ₹14,490\n",
      "(Renewed) Redmi Y3 (Bold Red, 3GB RAM, 32MP Selfie Camera, 32GB Storage, 4000mAH Battery) ₹17,990\n",
      "(Renewed) Redmi Note 6 Pro (Black, 64 GB, 4 GB RAM) ₹12,999\n",
      "(Renewed) Mi A1 (Black, 64GB) ₹14,999\n",
      "(Renewed) Xiaomi Redmi Note 3 (Gold, 32GB) ₹1,299\n",
      "Samsung Galaxy M21 2021 Edition (Arctic Blue, 4GB RAM, 64GB Storage) | FHD+ sAMOLED | 6 Months Free Screen Replacement for Prime (SM-M215GLBDINS) ₹1,999\n",
      "Nillkin Case for Xiaomi Mi 11 Ultra (6.81\" Inch) Super Frosted Hard Back Cover PC Peacock Blue Color ₹11,499\n",
      "Samsung Galaxy M12 (Black,4GB RAM, 64GB Storage) 6000 mAh with 8nm Processor | True 48 MP Quad Camera | 90Hz Refresh Rate ₹12,999\n",
      "Samsung Galaxy M32 (Light Blue, 4GB RAM, 64GB Storage) 6 Months Free Screen Replacement for Prime ₹14,999\n",
      "OPPO A31 (Fantasy White, 6GB RAM, 128GB Storage) with No Cost EMI/Additional Exchange Offers ₹16,999\n"
     ]
    }
   ],
   "source": [
    "for i,j in zip(results['Title'],results['Price']):\n",
    "    a=i\n",
    "    b=j\n",
    "    print(a+\" \"+b)\n",
    "\n",
    "    writer.writerow ( [a.encode ( 'utf-8' ),b.encode ( 'utf-8' )])\n"
   ]
  },
  {
   "cell_type": "code",
   "execution_count": 39,
   "id": "2ac523a9",
   "metadata": {},
   "outputs": [
    {
     "data": {
      "text/plain": [
       "13"
      ]
     },
     "execution_count": 39,
     "metadata": {},
     "output_type": "execute_result"
    }
   ],
   "source": [
    "#writing the data inside a csv file\n",
    "file=open(\"webscrap.csv\",'a')\n",
    "writer=csv.writer(file)\n",
    "writer.writerow(['Title','Price'])"
   ]
  },
  {
   "cell_type": "code",
   "execution_count": 25,
   "id": "c252d03d",
   "metadata": {},
   "outputs": [],
   "source": []
  },
  {
   "cell_type": "code",
   "execution_count": 29,
   "id": "e55069fb",
   "metadata": {},
   "outputs": [],
   "source": []
  },
  {
   "cell_type": "code",
   "execution_count": 28,
   "id": "94af7d5f",
   "metadata": {},
   "outputs": [],
   "source": [
    "\n"
   ]
  },
  {
   "cell_type": "code",
   "execution_count": null,
   "id": "6503d66e",
   "metadata": {},
   "outputs": [],
   "source": []
  }
 ],
 "metadata": {
  "kernelspec": {
   "display_name": "Python 3 (ipykernel)",
   "language": "python",
   "name": "python3"
  },
  "language_info": {
   "codemirror_mode": {
    "name": "ipython",
    "version": 3
   },
   "file_extension": ".py",
   "mimetype": "text/x-python",
   "name": "python",
   "nbconvert_exporter": "python",
   "pygments_lexer": "ipython3",
   "version": "3.9.0"
  }
 },
 "nbformat": 4,
 "nbformat_minor": 5
}
