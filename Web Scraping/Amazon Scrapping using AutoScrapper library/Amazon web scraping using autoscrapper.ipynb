{
 "cells": [
  {
   "cell_type": "code",
   "execution_count": 18,
   "id": "b7a255df",
   "metadata": {},
   "outputs": [],
   "source": [
    "from autoscraper import AutoScraper\n",
    "import csv"
   ]
  },
  {
   "cell_type": "code",
   "execution_count": 2,
   "id": "3bbe3c6e",
   "metadata": {},
   "outputs": [],
   "source": [
    "url=\"https://www.amazon.in/s?k=iphones&crid=2LHHWP154XW5M&sprefix=iphones%2Caps%2C327&ref=nb_sb_noss\"\n",
    "wantedlist=['Apple iPhone 13 Mini (128GB) - (Product) RED','₹69,900 ']\n"
   ]
  },
  {
   "cell_type": "code",
   "execution_count": 4,
   "id": "5059a11a",
   "metadata": {},
   "outputs": [
    {
     "name": "stdout",
     "output_type": "stream",
     "text": [
      "['Apple iPhone 13 Mini (128GB) - (Product) RED', 'Apple iPhone 13 Mini (256GB) - Midnight', 'Apple iPhone XR (64GB) - Yellow', 'Apple iPhone XR (128GB) - Yellow', 'Apple iPhone 11 (256GB) - Green', 'Apple iPhone 13 Mini (256GB) - Starlight', 'Apple iPhone XR (128GB) - Blue', 'Apple iPhone 12 Mini (128GB) - Green', 'Apple iPhone XR (128GB) - (Product) RED', 'Apple iPhone XR (128GB) - Black', 'Apple iPhone XR (64GB) - (Product) RED', '6G Space Grey Compatible with Apple iPhone with 8 Mega Pixel Camera (64GB Internal Memory)', 'New Apple iPhone 12 Mini (64GB) - White', 'New Apple iPhone 12 Mini (64GB) - Green', 'Apple iPhone XR (128GB) - Coral', 'Apple iPhone XR (64GB) - Coral', '₹69,900', '₹79,900', '₹34,999', '₹47,900', '₹39,999', '₹52,900', '₹64,900', '₹72,990', '₹57,800', '₹40,999', '₹33,999', '₹22,999', '₹25,999', '₹49,999', '₹59,900']\n"
     ]
    }
   ],
   "source": [
    "\n",
    "scraper=AutoScraper()\n",
    "result=scraper.build(url,wantedlist)\n",
    "print(result)"
   ]
  },
  {
   "cell_type": "code",
   "execution_count": 5,
   "id": "469c724e",
   "metadata": {},
   "outputs": [
    {
     "data": {
      "text/plain": [
       "{'rule_zll5': ['Apple iPhone XR (64GB) - (Product) RED',\n",
       "  'Apple iPhone XR (64GB) - Coral',\n",
       "  'Apple iPhone XR (128GB) - (Product) RED',\n",
       "  'Apple iPhone XR (128GB) - Black',\n",
       "  'Apple iPhone 13 Mini (256GB) - Midnight',\n",
       "  'Apple iPhone 13 Mini (128GB) - (Product) RED',\n",
       "  'Apple iPhone XR (64GB) - Yellow',\n",
       "  'Apple iPhone 13 Mini (256GB) - Pink',\n",
       "  '6G Space Grey Compatible with Apple iPhone with 8 Mega Pixel Camera (64GB Internal Memory)',\n",
       "  '6G Gold Compatible with Apple iPhone with 8 Mega Pixel Camera (64GB Internal Memory)',\n",
       "  'Apple iPhone 12 Mini (128GB) - Green',\n",
       "  'Apple iPhone XR (128GB) - Yellow',\n",
       "  'Apple iPhone XR (128GB) - Blue',\n",
       "  'New Apple iPhone 12 Mini (64GB) - White',\n",
       "  'Apple iPhone 13 Mini (256GB) - Blue',\n",
       "  '5S Gold Compatible with Apple iPhone with 8 Mega Pixel Camera(16GB Internal Memory)'],\n",
       " 'rule_v7ou': ['Apple iPhone XR (64GB) - (Product) RED',\n",
       "  'Apple iPhone XR (64GB) - Coral',\n",
       "  'Apple iPhone XR (128GB) - (Product) RED',\n",
       "  'Apple iPhone XR (128GB) - Black',\n",
       "  'Apple iPhone 13 Mini (256GB) - Midnight',\n",
       "  'Apple iPhone 13 Mini (128GB) - (Product) RED',\n",
       "  'Apple iPhone XR (64GB) - Yellow',\n",
       "  'Apple iPhone 13 Mini (256GB) - Pink',\n",
       "  '6G Space Grey Compatible with Apple iPhone with 8 Mega Pixel Camera (64GB Internal Memory)',\n",
       "  '6G Gold Compatible with Apple iPhone with 8 Mega Pixel Camera (64GB Internal Memory)',\n",
       "  'Apple iPhone 12 Mini (128GB) - Green',\n",
       "  'Apple iPhone XR (128GB) - Yellow',\n",
       "  'Apple iPhone XR (128GB) - Blue',\n",
       "  'New Apple iPhone 12 Mini (64GB) - White',\n",
       "  'Apple iPhone 13 Mini (256GB) - Blue',\n",
       "  '5S Gold Compatible with Apple iPhone with 8 Mega Pixel Camera(16GB Internal Memory)'],\n",
       " 'rule_c1dg': ['₹33,999',\n",
       "  '₹47,900',\n",
       "  '₹34,999',\n",
       "  '₹47,900',\n",
       "  '₹39,999',\n",
       "  '₹57,800',\n",
       "  '₹40,999',\n",
       "  '₹52,900',\n",
       "  '₹79,900',\n",
       "  '₹69,900',\n",
       "  '₹34,999',\n",
       "  '₹47,900',\n",
       "  '₹79,900',\n",
       "  '₹22,999',\n",
       "  '₹25,999',\n",
       "  '₹21,999',\n",
       "  '₹25,999',\n",
       "  '₹64,900',\n",
       "  '₹72,990',\n",
       "  '₹39,999',\n",
       "  '₹52,900',\n",
       "  '₹39,999',\n",
       "  '₹52,900',\n",
       "  '₹49,999',\n",
       "  '₹69,900',\n",
       "  '₹79,900',\n",
       "  '₹14,999',\n",
       "  '₹24,999'],\n",
       " 'rule_7mao': ['₹33,999',\n",
       "  '₹47,900',\n",
       "  '₹34,999',\n",
       "  '₹47,900',\n",
       "  '₹39,999',\n",
       "  '₹57,800',\n",
       "  '₹40,999',\n",
       "  '₹52,900',\n",
       "  '₹79,900',\n",
       "  '₹69,900',\n",
       "  '₹34,999',\n",
       "  '₹47,900',\n",
       "  '₹79,900',\n",
       "  '₹22,999',\n",
       "  '₹25,999',\n",
       "  '₹21,999',\n",
       "  '₹25,999',\n",
       "  '₹64,900',\n",
       "  '₹72,990',\n",
       "  '₹39,999',\n",
       "  '₹52,900',\n",
       "  '₹39,999',\n",
       "  '₹52,900',\n",
       "  '₹49,999',\n",
       "  '₹69,900',\n",
       "  '₹79,900',\n",
       "  '₹14,999',\n",
       "  '₹24,999'],\n",
       " 'rule_o62u': ['₹33,999',\n",
       "  '₹47,900',\n",
       "  '₹34,999',\n",
       "  '₹47,900',\n",
       "  '₹39,999',\n",
       "  '₹57,800',\n",
       "  '₹40,999',\n",
       "  '₹52,900',\n",
       "  '₹79,900',\n",
       "  '₹69,900',\n",
       "  '₹34,999',\n",
       "  '₹47,900',\n",
       "  '₹79,900',\n",
       "  '₹22,999',\n",
       "  '₹25,999',\n",
       "  '₹21,999',\n",
       "  '₹25,999',\n",
       "  '₹64,900',\n",
       "  '₹72,990',\n",
       "  '₹39,999',\n",
       "  '₹52,900',\n",
       "  '₹39,999',\n",
       "  '₹52,900',\n",
       "  '₹49,999',\n",
       "  '₹69,900',\n",
       "  '₹79,900',\n",
       "  '₹14,999',\n",
       "  '₹24,999'],\n",
       " 'rule_e81x': ['₹33,999',\n",
       "  '₹47,900',\n",
       "  '₹34,999',\n",
       "  '₹47,900',\n",
       "  '₹39,999',\n",
       "  '₹57,800',\n",
       "  '₹40,999',\n",
       "  '₹52,900',\n",
       "  '₹79,900',\n",
       "  '₹69,900',\n",
       "  '₹34,999',\n",
       "  '₹47,900',\n",
       "  '₹79,900',\n",
       "  '₹22,999',\n",
       "  '₹25,999',\n",
       "  '₹21,999',\n",
       "  '₹25,999',\n",
       "  '₹64,900',\n",
       "  '₹72,990',\n",
       "  '₹39,999',\n",
       "  '₹52,900',\n",
       "  '₹39,999',\n",
       "  '₹52,900',\n",
       "  '₹49,999',\n",
       "  '₹69,900',\n",
       "  '₹79,900',\n",
       "  '₹14,999',\n",
       "  '₹24,999'],\n",
       " 'rule_v5a5': ['₹33,999',\n",
       "  '₹47,900',\n",
       "  '₹34,999',\n",
       "  '₹47,900',\n",
       "  '₹39,999',\n",
       "  '₹57,800',\n",
       "  '₹40,999',\n",
       "  '₹52,900',\n",
       "  '₹79,900',\n",
       "  '₹69,900',\n",
       "  '₹34,999',\n",
       "  '₹47,900',\n",
       "  '₹79,900',\n",
       "  '₹22,999',\n",
       "  '₹25,999',\n",
       "  '₹21,999',\n",
       "  '₹25,999',\n",
       "  '₹64,900',\n",
       "  '₹72,990',\n",
       "  '₹39,999',\n",
       "  '₹52,900',\n",
       "  '₹39,999',\n",
       "  '₹52,900',\n",
       "  '₹49,999',\n",
       "  '₹69,900',\n",
       "  '₹79,900',\n",
       "  '₹14,999',\n",
       "  '₹24,999'],\n",
       " 'rule_hofc': ['₹33,999',\n",
       "  '₹47,900',\n",
       "  '₹34,999',\n",
       "  '₹47,900',\n",
       "  '₹39,999',\n",
       "  '₹57,800',\n",
       "  '₹40,999',\n",
       "  '₹52,900',\n",
       "  '₹79,900',\n",
       "  '₹69,900',\n",
       "  '₹34,999',\n",
       "  '₹47,900',\n",
       "  '₹79,900',\n",
       "  '₹22,999',\n",
       "  '₹25,999',\n",
       "  '₹21,999',\n",
       "  '₹25,999',\n",
       "  '₹64,900',\n",
       "  '₹72,990',\n",
       "  '₹39,999',\n",
       "  '₹52,900',\n",
       "  '₹39,999',\n",
       "  '₹52,900',\n",
       "  '₹49,999',\n",
       "  '₹69,900',\n",
       "  '₹79,900',\n",
       "  '₹14,999',\n",
       "  '₹24,999'],\n",
       " 'rule_yxf4': ['₹33,999',\n",
       "  '₹47,900',\n",
       "  '₹34,999',\n",
       "  '₹47,900',\n",
       "  '₹39,999',\n",
       "  '₹57,800',\n",
       "  '₹40,999',\n",
       "  '₹52,900',\n",
       "  '₹79,900',\n",
       "  '₹69,900',\n",
       "  '₹34,999',\n",
       "  '₹47,900',\n",
       "  '₹79,900',\n",
       "  '₹22,999',\n",
       "  '₹25,999',\n",
       "  '₹21,999',\n",
       "  '₹25,999',\n",
       "  '₹64,900',\n",
       "  '₹72,990',\n",
       "  '₹39,999',\n",
       "  '₹52,900',\n",
       "  '₹39,999',\n",
       "  '₹52,900',\n",
       "  '₹49,999',\n",
       "  '₹69,900',\n",
       "  '₹79,900',\n",
       "  '₹14,999',\n",
       "  '₹24,999'],\n",
       " 'rule_bmy7': ['₹33,999',\n",
       "  '₹47,900',\n",
       "  '₹34,999',\n",
       "  '₹47,900',\n",
       "  '₹39,999',\n",
       "  '₹57,800',\n",
       "  '₹40,999',\n",
       "  '₹52,900',\n",
       "  '₹79,900',\n",
       "  '₹69,900',\n",
       "  '₹34,999',\n",
       "  '₹47,900',\n",
       "  '₹79,900',\n",
       "  '₹22,999',\n",
       "  '₹25,999',\n",
       "  '₹21,999',\n",
       "  '₹25,999',\n",
       "  '₹64,900',\n",
       "  '₹72,990',\n",
       "  '₹39,999',\n",
       "  '₹52,900',\n",
       "  '₹39,999',\n",
       "  '₹52,900',\n",
       "  '₹49,999',\n",
       "  '₹69,900',\n",
       "  '₹79,900',\n",
       "  '₹14,999',\n",
       "  '₹24,999']}"
      ]
     },
     "execution_count": 5,
     "metadata": {},
     "output_type": "execute_result"
    }
   ],
   "source": [
    "#getting the title and price grouped in each of seperate group\n",
    "scraper.get_result_similar(url,grouped=True)"
   ]
  },
  {
   "cell_type": "code",
   "execution_count": 6,
   "id": "6c3227c5",
   "metadata": {},
   "outputs": [],
   "source": [
    "#setting rule for every page and now getting the title and price with their group name that we do above\n",
    "scraper.set_rule_aliases({'rule_zll5':'Title','rule_c1dg':'Price'})\n",
    "scraper.keep_rules(['rule_zll5','rule_c1dg'])\n",
    "scraper.save('amazon-search')"
   ]
  },
  {
   "cell_type": "code",
   "execution_count": 7,
   "id": "e3868ac0",
   "metadata": {},
   "outputs": [],
   "source": [
    "#we set it above the grup for title and price now we can use it getresultsimilar for all other links and pages\n",
    "results=scraper.get_result_similar('https://www.amazon.in/s?k=mi+phones+under+15000',group_by_alias=True)\n"
   ]
  },
  {
   "cell_type": "code",
   "execution_count": 9,
   "id": "f0c137ca",
   "metadata": {},
   "outputs": [
    {
     "data": {
      "text/plain": [
       "['₹7,499',\n",
       " '₹8,499',\n",
       " '₹9,499',\n",
       " '₹10,999',\n",
       " '₹7,499',\n",
       " '₹8,497',\n",
       " '₹8,299',\n",
       " '₹9,499',\n",
       " '₹14,999',\n",
       " '₹16,999',\n",
       " '₹14,999',\n",
       " '₹16,999',\n",
       " '₹14,499',\n",
       " '₹16,999',\n",
       " '₹7,499',\n",
       " '₹8,499',\n",
       " '₹11,499',\n",
       " '₹12,999',\n",
       " '₹12,999',\n",
       " '₹16,999',\n",
       " '₹11,499',\n",
       " '₹12,999',\n",
       " '₹9,499',\n",
       " '₹10,999',\n",
       " '₹8,299',\n",
       " '₹14,999',\n",
       " '₹17,999',\n",
       " '₹13,990']"
      ]
     },
     "execution_count": 9,
     "metadata": {},
     "output_type": "execute_result"
    }
   ],
   "source": [
    "#now we can get the title and price by result[\"price\"]\n",
    "results['Price']"
   ]
  },
  {
   "cell_type": "code",
   "execution_count": 16,
   "id": "8bfff901",
   "metadata": {},
   "outputs": [
    {
     "name": "stdout",
     "output_type": "stream",
     "text": [
      "{'Title': ['Redmi 9A (Nature Green, 2GB RAM, 32GB Storage) | 2GHz Octa-core Helio G25 Processor | 5000 mAh Battery', 'Redmi 9 (Sporty Orange, 4GB RAM, 64GB Storage) | 2.3GHz Mediatek Helio G35 Octa core Processor', 'Best sellerin Electronics', 'Redmi 9A (Midnight Black 2GB RAM 32GB Storage) | 2GHz Octa-core Helio G25 Processor | 5000 mAh Battery', 'Redmi 9A(Midnight Black 3GB RAM 32GB Storage) | 2GHz Octa-core Helio G25 Processor | 5000 mAh Battery', 'Redmi Note 10S (Cosmic Purple, 6GB RAM, 64 GB Storage) - Super Amoled Display | 64 MP Quad Camera | Alexa Built in', 'Redmi Note 10S (Frost White, 6GB RAM, 64GB Storage) - Super Amoled Display | 64 MP Quad Camera | Alexa Built in', 'Redmi 10 (Prime Phantom Black 6GB RAM 128GB ROM |Helio G88 with extendable RAM Upto 2GB |FHD+ 90Hz Adaptive Sync Display)', 'Redmi 9A (Sea Blue 2GB RAM 32GB Storage) | 2GHz Octa-core Helio G25 Processor | 5000 mAh Battery', 'Redmi 9 Activ (Carbon Black, 6GB RAM, 128GB Storage)', 'Redmi Note 10 Lite (Aurora Blue, 4GB RAM, 64GB Storage) | Alexa Built-in', 'Redmi 9 Activ (Metallic Purple, 6GB RAM, 128GB Storage)', 'Redmi 2GB RAM, 16GB Storage Mi 6A, Black', 'Redmi 9 Activ (Carbon Black, 4GB RAM, 64GB Storage)', 'Redmi 9A (Nature Green, 3GB Ram, 32GB Storage) | 2GHz Octa-core Helio G25 Processor', 'Redmi Note 10 Lite Aurora Blue 4GB RAM 128GB ROM | Alexa Built-in', 'Mi Xiaomi MI Redmi Note 7S 4GB/64 GB Moonlight White Smartphone'], 'Price': ['₹7,499', '₹8,499', '₹9,499', '₹10,999', '₹7,499', '₹8,497', '₹8,299', '₹9,499', '₹14,999', '₹16,999', '₹14,999', '₹16,999', '₹14,499', '₹16,999', '₹7,499', '₹8,499', '₹11,499', '₹12,999', '₹12,999', '₹16,999', '₹11,499', '₹12,999', '₹9,499', '₹10,999', '₹8,299', '₹14,999', '₹17,999', '₹13,990']}\n"
     ]
    }
   ],
   "source": [
    "print(results)"
   ]
  },
  {
   "cell_type": "code",
   "execution_count": 19,
   "id": "f8784a50",
   "metadata": {},
   "outputs": [
    {
     "data": {
      "text/plain": [
       "13"
      ]
     },
     "execution_count": 19,
     "metadata": {},
     "output_type": "execute_result"
    }
   ],
   "source": []
  },
  {
   "cell_type": "code",
   "execution_count": 23,
   "id": "b7d6b7ed",
   "metadata": {},
   "outputs": [
    {
     "name": "stdout",
     "output_type": "stream",
     "text": [
      "Redmi 9A (Nature Green, 2GB RAM, 32GB Storage) | 2GHz Octa-core Helio G25 Processor | 5000 mAh Battery ₹7,499\n",
      "Redmi 9 (Sporty Orange, 4GB RAM, 64GB Storage) | 2.3GHz Mediatek Helio G35 Octa core Processor ₹8,499\n",
      "Best sellerin Electronics ₹9,499\n",
      "Redmi 9A (Midnight Black 2GB RAM 32GB Storage) | 2GHz Octa-core Helio G25 Processor | 5000 mAh Battery ₹10,999\n",
      "Redmi 9A(Midnight Black 3GB RAM 32GB Storage) | 2GHz Octa-core Helio G25 Processor | 5000 mAh Battery ₹7,499\n",
      "Redmi Note 10S (Cosmic Purple, 6GB RAM, 64 GB Storage) - Super Amoled Display | 64 MP Quad Camera | Alexa Built in ₹8,497\n",
      "Redmi Note 10S (Frost White, 6GB RAM, 64GB Storage) - Super Amoled Display | 64 MP Quad Camera | Alexa Built in ₹8,299\n",
      "Redmi 10 (Prime Phantom Black 6GB RAM 128GB ROM |Helio G88 with extendable RAM Upto 2GB |FHD+ 90Hz Adaptive Sync Display) ₹9,499\n",
      "Redmi 9A (Sea Blue 2GB RAM 32GB Storage) | 2GHz Octa-core Helio G25 Processor | 5000 mAh Battery ₹14,999\n",
      "Redmi 9 Activ (Carbon Black, 6GB RAM, 128GB Storage) ₹16,999\n",
      "Redmi Note 10 Lite (Aurora Blue, 4GB RAM, 64GB Storage) | Alexa Built-in ₹14,999\n",
      "Redmi 9 Activ (Metallic Purple, 6GB RAM, 128GB Storage) ₹16,999\n",
      "Redmi 2GB RAM, 16GB Storage Mi 6A, Black ₹14,499\n",
      "Redmi 9 Activ (Carbon Black, 4GB RAM, 64GB Storage) ₹16,999\n",
      "Redmi 9A (Nature Green, 3GB Ram, 32GB Storage) | 2GHz Octa-core Helio G25 Processor ₹7,499\n",
      "Redmi Note 10 Lite Aurora Blue 4GB RAM 128GB ROM | Alexa Built-in ₹8,499\n",
      "Mi Xiaomi MI Redmi Note 7S 4GB/64 GB Moonlight White Smartphone ₹11,499\n"
     ]
    }
   ],
   "source": [
    "for i,j in zip(results['Title'],results['Price']):\n",
    "    a=i\n",
    "    b=j\n",
    "    print(a+\" \"+b)\n",
    "\n",
    "    writer.writerow ( [a.encode ( 'utf-8' ),b.encode ( 'utf-8' )])\n"
   ]
  },
  {
   "cell_type": "code",
   "execution_count": 24,
   "id": "33f815de",
   "metadata": {},
   "outputs": [
    {
     "data": {
      "text/plain": [
       "13"
      ]
     },
     "execution_count": 24,
     "metadata": {},
     "output_type": "execute_result"
    }
   ],
   "source": [
    "file=open(\"webscrap.csv\",'w')\n",
    "writer=csv.writer(file)\n",
    "writer.writerow(['Title','Price'])"
   ]
  },
  {
   "cell_type": "code",
   "execution_count": null,
   "id": "64ceea72",
   "metadata": {},
   "outputs": [],
   "source": []
  }
 ],
 "metadata": {
  "kernelspec": {
   "display_name": "Python 3 (ipykernel)",
   "language": "python",
   "name": "python3"
  },
  "language_info": {
   "codemirror_mode": {
    "name": "ipython",
    "version": 3
   },
   "file_extension": ".py",
   "mimetype": "text/x-python",
   "name": "python",
   "nbconvert_exporter": "python",
   "pygments_lexer": "ipython3",
   "version": "3.9.0"
  }
 },
 "nbformat": 4,
 "nbformat_minor": 5
}
