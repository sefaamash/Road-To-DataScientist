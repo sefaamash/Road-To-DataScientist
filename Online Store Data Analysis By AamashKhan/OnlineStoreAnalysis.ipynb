{
 "cells": [
  {
   "cell_type": "code",
   "execution_count": 1,
   "id": "c5c22150",
   "metadata": {},
   "outputs": [],
   "source": [
    "import numpy as np #for mathmatical expressions\n",
    "import pandas as pd # for data manipulation \n",
    "import seaborn as sns #making statistical graphics.\n",
    "import matplotlib.pyplot as plt\n",
    "import os"
   ]
  },
  {
   "cell_type": "code",
   "execution_count": 2,
   "id": "62064bd7",
   "metadata": {},
   "outputs": [
    {
     "data": {
      "text/plain": [
       "['.ipynb_checkpoints',\n",
       " 'Sales-April.csv',\n",
       " 'Sales-Februrary.csv',\n",
       " 'Sales-January.csv',\n",
       " 'Sales-March.csv',\n",
       " 'Sales-May.csv',\n",
       " 'Untitled.ipynb']"
      ]
     },
     "execution_count": 2,
     "metadata": {},
     "output_type": "execute_result"
    }
   ],
   "source": [
    "import os #no of files in a path\n",
    "path=r\"C:\\Users\\Aamash\\Desktop\\Data Analysis Projects\\Online Store Data Analysis By AamashKhan\"\n",
    "os.listdir(path)"
   ]
  },
  {
   "cell_type": "code",
   "execution_count": 9,
   "id": "54ceea71",
   "metadata": {},
   "outputs": [],
   "source": [
    "#putting all the csv files data in to a single file\n",
    "files=[file for file in os.listdir(path) if not file.startswith('.')]\n",
    "alldata=pd.DataFrame()\n",
    "for file in files:\n",
    "    rawdata=pd.read_csv(path+\"/\"+file, encoding='latin1')\n",
    "    alldata=pd.concat([alldata,rawdata],ignore_index=True,axis=0)\n",
    "alldata.to_csv(\"aldata.csv\",index=False)"
   ]
  },
  {
   "cell_type": "code",
   "execution_count": 10,
   "id": "97851ef2",
   "metadata": {},
   "outputs": [
    {
     "name": "stdout",
     "output_type": "stream",
     "text": [
      "<class 'pandas.core.frame.DataFrame'>\n",
      "RangeIndex: 3888 entries, 0 to 3887\n",
      "Data columns (total 9 columns):\n",
      " #   Column                Non-Null Count  Dtype  \n",
      "---  ------                --------------  -----  \n",
      " 0   Sales Representative  3888 non-null   object \n",
      " 1   Location              3888 non-null   object \n",
      " 2   Region                3888 non-null   object \n",
      " 3   Customer              3888 non-null   object \n",
      " 4   Order Date            3888 non-null   object \n",
      " 5   Item                  3888 non-null   object \n",
      " 6   Quantity              3888 non-null   int64  \n",
      " 7   Price                 3888 non-null   float64\n",
      " 8   Total Sale Amount     3888 non-null   float64\n",
      "dtypes: float64(2), int64(1), object(6)\n",
      "memory usage: 273.5+ KB\n"
     ]
    }
   ],
   "source": [
    "alldata.info()"
   ]
  },
  {
   "cell_type": "code",
   "execution_count": 11,
   "id": "b484c407",
   "metadata": {},
   "outputs": [],
   "source": [
    "alldata['Price']=pd.to_numeric(alldata['Price'])\n",
    "alldata['Total Sale Amount']=pd.to_numeric(alldata['Total Sale Amount'])\n"
   ]
  },
  {
   "cell_type": "code",
   "execution_count": 14,
   "id": "2c8e50a4",
   "metadata": {},
   "outputs": [
    {
     "data": {
      "text/plain": [
       "pandas.core.series.Series"
      ]
     },
     "execution_count": 14,
     "metadata": {},
     "output_type": "execute_result"
    }
   ],
   "source": [
    "#Converting this to date format with df['DOB'] = pd. to_datetime(df['DOB']) , the date gets converted to: 2016-01-26 and its dtype is: DOB datetime64[ns] .\n",
    "alldata['Order Date']=pd.to_datetime(alldata['Order Date'])#convert the object typre date to string type\n",
    "alldata['Order Date'].dtype\n",
    "type(alldata['Order Date'])"
   ]
  },
  {
   "cell_type": "code",
   "execution_count": 15,
   "id": "cc11d185",
   "metadata": {},
   "outputs": [],
   "source": [
    "alldata['day']=(alldata['Order Date']).dt.day#dt.day telss the day of that datetime similiraly dt,year dt.min etc\n",
    "alldata['month']=(alldata['Order Date']).dt.month\n",
    "alldata['year']=(alldata['Order Date']).dt.year\n",
    "alldata['minute']=(alldata['Order Date']).dt.minute\n",
    "alldata['hour']=(alldata['Order Date']).dt.hour"
   ]
  },
  {
   "cell_type": "code",
   "execution_count": 16,
   "id": "11a836cd",
   "metadata": {},
   "outputs": [
    {
     "data": {
      "text/html": [
       "<div>\n",
       "<style scoped>\n",
       "    .dataframe tbody tr th:only-of-type {\n",
       "        vertical-align: middle;\n",
       "    }\n",
       "\n",
       "    .dataframe tbody tr th {\n",
       "        vertical-align: top;\n",
       "    }\n",
       "\n",
       "    .dataframe thead th {\n",
       "        text-align: right;\n",
       "    }\n",
       "</style>\n",
       "<table border=\"1\" class=\"dataframe\">\n",
       "  <thead>\n",
       "    <tr style=\"text-align: right;\">\n",
       "      <th></th>\n",
       "      <th>Quantity</th>\n",
       "      <th>Price</th>\n",
       "      <th>Total Sale Amount</th>\n",
       "      <th>day</th>\n",
       "      <th>month</th>\n",
       "      <th>year</th>\n",
       "      <th>minute</th>\n",
       "      <th>hour</th>\n",
       "    </tr>\n",
       "  </thead>\n",
       "  <tbody>\n",
       "    <tr>\n",
       "      <th>count</th>\n",
       "      <td>3888.000000</td>\n",
       "      <td>3888.000000</td>\n",
       "      <td>3888.000000</td>\n",
       "      <td>3888.000000</td>\n",
       "      <td>3888.000000</td>\n",
       "      <td>3888.0</td>\n",
       "      <td>3888.0</td>\n",
       "      <td>3888.0</td>\n",
       "    </tr>\n",
       "    <tr>\n",
       "      <th>mean</th>\n",
       "      <td>5.566358</td>\n",
       "      <td>22.880005</td>\n",
       "      <td>127.617577</td>\n",
       "      <td>15.584362</td>\n",
       "      <td>3.051955</td>\n",
       "      <td>2016.0</td>\n",
       "      <td>0.0</td>\n",
       "      <td>0.0</td>\n",
       "    </tr>\n",
       "    <tr>\n",
       "      <th>std</th>\n",
       "      <td>2.852649</td>\n",
       "      <td>15.997386</td>\n",
       "      <td>120.360891</td>\n",
       "      <td>8.324094</td>\n",
       "      <td>1.382710</td>\n",
       "      <td>0.0</td>\n",
       "      <td>0.0</td>\n",
       "      <td>0.0</td>\n",
       "    </tr>\n",
       "    <tr>\n",
       "      <th>min</th>\n",
       "      <td>1.000000</td>\n",
       "      <td>12.420000</td>\n",
       "      <td>12.420000</td>\n",
       "      <td>1.000000</td>\n",
       "      <td>1.000000</td>\n",
       "      <td>2016.0</td>\n",
       "      <td>0.0</td>\n",
       "      <td>0.0</td>\n",
       "    </tr>\n",
       "    <tr>\n",
       "      <th>25%</th>\n",
       "      <td>3.000000</td>\n",
       "      <td>12.420000</td>\n",
       "      <td>53.350000</td>\n",
       "      <td>8.000000</td>\n",
       "      <td>2.000000</td>\n",
       "      <td>2016.0</td>\n",
       "      <td>0.0</td>\n",
       "      <td>0.0</td>\n",
       "    </tr>\n",
       "    <tr>\n",
       "      <th>50%</th>\n",
       "      <td>6.000000</td>\n",
       "      <td>16.320000</td>\n",
       "      <td>97.920000</td>\n",
       "      <td>16.000000</td>\n",
       "      <td>3.000000</td>\n",
       "      <td>2016.0</td>\n",
       "      <td>0.0</td>\n",
       "      <td>0.0</td>\n",
       "    </tr>\n",
       "    <tr>\n",
       "      <th>75%</th>\n",
       "      <td>8.000000</td>\n",
       "      <td>17.830000</td>\n",
       "      <td>142.640000</td>\n",
       "      <td>23.000000</td>\n",
       "      <td>4.000000</td>\n",
       "      <td>2016.0</td>\n",
       "      <td>0.0</td>\n",
       "      <td>0.0</td>\n",
       "    </tr>\n",
       "    <tr>\n",
       "      <th>max</th>\n",
       "      <td>10.000000</td>\n",
       "      <td>53.350000</td>\n",
       "      <td>533.500000</td>\n",
       "      <td>31.000000</td>\n",
       "      <td>5.000000</td>\n",
       "      <td>2016.0</td>\n",
       "      <td>0.0</td>\n",
       "      <td>0.0</td>\n",
       "    </tr>\n",
       "  </tbody>\n",
       "</table>\n",
       "</div>"
      ],
      "text/plain": [
       "          Quantity        Price  Total Sale Amount          day        month  \\\n",
       "count  3888.000000  3888.000000        3888.000000  3888.000000  3888.000000   \n",
       "mean      5.566358    22.880005         127.617577    15.584362     3.051955   \n",
       "std       2.852649    15.997386         120.360891     8.324094     1.382710   \n",
       "min       1.000000    12.420000          12.420000     1.000000     1.000000   \n",
       "25%       3.000000    12.420000          53.350000     8.000000     2.000000   \n",
       "50%       6.000000    16.320000          97.920000    16.000000     3.000000   \n",
       "75%       8.000000    17.830000         142.640000    23.000000     4.000000   \n",
       "max      10.000000    53.350000         533.500000    31.000000     5.000000   \n",
       "\n",
       "         year  minute    hour  \n",
       "count  3888.0  3888.0  3888.0  \n",
       "mean   2016.0     0.0     0.0  \n",
       "std       0.0     0.0     0.0  \n",
       "min    2016.0     0.0     0.0  \n",
       "25%    2016.0     0.0     0.0  \n",
       "50%    2016.0     0.0     0.0  \n",
       "75%    2016.0     0.0     0.0  \n",
       "max    2016.0     0.0     0.0  "
      ]
     },
     "execution_count": 16,
     "metadata": {},
     "output_type": "execute_result"
    }
   ],
   "source": [
    "#The describe() method is used for calculating some statistical data like percentile, mean and std of the numerical values of the Series or DataFrame.\n",
    "alldata.describe()\n"
   ]
  },
  {
   "cell_type": "code",
   "execution_count": 17,
   "id": "b4c0f423",
   "metadata": {},
   "outputs": [
    {
     "data": {
      "text/html": [
       "<div>\n",
       "<style scoped>\n",
       "    .dataframe tbody tr th:only-of-type {\n",
       "        vertical-align: middle;\n",
       "    }\n",
       "\n",
       "    .dataframe tbody tr th {\n",
       "        vertical-align: top;\n",
       "    }\n",
       "\n",
       "    .dataframe thead th {\n",
       "        text-align: right;\n",
       "    }\n",
       "</style>\n",
       "<table border=\"1\" class=\"dataframe\">\n",
       "  <thead>\n",
       "    <tr style=\"text-align: right;\">\n",
       "      <th></th>\n",
       "      <th>Sales Representative</th>\n",
       "      <th>Location</th>\n",
       "      <th>Region</th>\n",
       "      <th>Customer</th>\n",
       "      <th>Order Date</th>\n",
       "      <th>Item</th>\n",
       "      <th>Quantity</th>\n",
       "      <th>Price</th>\n",
       "      <th>Total Sale Amount</th>\n",
       "      <th>day</th>\n",
       "      <th>month</th>\n",
       "      <th>year</th>\n",
       "      <th>minute</th>\n",
       "      <th>hour</th>\n",
       "    </tr>\n",
       "  </thead>\n",
       "  <tbody>\n",
       "    <tr>\n",
       "      <th>0</th>\n",
       "      <td>Patrick Graham</td>\n",
       "      <td>Washington</td>\n",
       "      <td>West</td>\n",
       "      <td>Jeremy Baker</td>\n",
       "      <td>2016-04-01</td>\n",
       "      <td>Junk</td>\n",
       "      <td>8</td>\n",
       "      <td>12.42</td>\n",
       "      <td>99.36</td>\n",
       "      <td>1</td>\n",
       "      <td>4</td>\n",
       "      <td>2016</td>\n",
       "      <td>0</td>\n",
       "      <td>0</td>\n",
       "    </tr>\n",
       "    <tr>\n",
       "      <th>1</th>\n",
       "      <td>Frances Warren</td>\n",
       "      <td>New Jersey</td>\n",
       "      <td>East</td>\n",
       "      <td>Albert Dunn</td>\n",
       "      <td>2016-04-01</td>\n",
       "      <td>Widgets</td>\n",
       "      <td>9</td>\n",
       "      <td>53.35</td>\n",
       "      <td>480.15</td>\n",
       "      <td>1</td>\n",
       "      <td>4</td>\n",
       "      <td>2016</td>\n",
       "      <td>0</td>\n",
       "      <td>0</td>\n",
       "    </tr>\n",
       "    <tr>\n",
       "      <th>2</th>\n",
       "      <td>Sara Snyder</td>\n",
       "      <td>New York</td>\n",
       "      <td>East</td>\n",
       "      <td>Robert Hayes</td>\n",
       "      <td>2016-04-01</td>\n",
       "      <td>Junk</td>\n",
       "      <td>4</td>\n",
       "      <td>12.42</td>\n",
       "      <td>49.68</td>\n",
       "      <td>1</td>\n",
       "      <td>4</td>\n",
       "      <td>2016</td>\n",
       "      <td>0</td>\n",
       "      <td>0</td>\n",
       "    </tr>\n",
       "    <tr>\n",
       "      <th>3</th>\n",
       "      <td>Randy Watson</td>\n",
       "      <td>New York</td>\n",
       "      <td>East</td>\n",
       "      <td>Cheryl Riley</td>\n",
       "      <td>2016-04-01</td>\n",
       "      <td>Widgets</td>\n",
       "      <td>5</td>\n",
       "      <td>53.35</td>\n",
       "      <td>266.75</td>\n",
       "      <td>1</td>\n",
       "      <td>4</td>\n",
       "      <td>2016</td>\n",
       "      <td>0</td>\n",
       "      <td>0</td>\n",
       "    </tr>\n",
       "    <tr>\n",
       "      <th>4</th>\n",
       "      <td>Randy Watson</td>\n",
       "      <td>New Jersey</td>\n",
       "      <td>East</td>\n",
       "      <td>Kimberly Coleman</td>\n",
       "      <td>2016-04-01</td>\n",
       "      <td>Widgets</td>\n",
       "      <td>2</td>\n",
       "      <td>53.35</td>\n",
       "      <td>106.70</td>\n",
       "      <td>1</td>\n",
       "      <td>4</td>\n",
       "      <td>2016</td>\n",
       "      <td>0</td>\n",
       "      <td>0</td>\n",
       "    </tr>\n",
       "    <tr>\n",
       "      <th>...</th>\n",
       "      <td>...</td>\n",
       "      <td>...</td>\n",
       "      <td>...</td>\n",
       "      <td>...</td>\n",
       "      <td>...</td>\n",
       "      <td>...</td>\n",
       "      <td>...</td>\n",
       "      <td>...</td>\n",
       "      <td>...</td>\n",
       "      <td>...</td>\n",
       "      <td>...</td>\n",
       "      <td>...</td>\n",
       "      <td>...</td>\n",
       "      <td>...</td>\n",
       "    </tr>\n",
       "    <tr>\n",
       "      <th>495</th>\n",
       "      <td>Patrick Graham</td>\n",
       "      <td>Washington</td>\n",
       "      <td>West</td>\n",
       "      <td>Karen Willis</td>\n",
       "      <td>2016-02-07</td>\n",
       "      <td>Junk</td>\n",
       "      <td>9</td>\n",
       "      <td>12.42</td>\n",
       "      <td>111.78</td>\n",
       "      <td>7</td>\n",
       "      <td>2</td>\n",
       "      <td>2016</td>\n",
       "      <td>0</td>\n",
       "      <td>0</td>\n",
       "    </tr>\n",
       "    <tr>\n",
       "      <th>496</th>\n",
       "      <td>Frances Warren</td>\n",
       "      <td>New Jersey</td>\n",
       "      <td>East</td>\n",
       "      <td>Russell Day</td>\n",
       "      <td>2016-02-07</td>\n",
       "      <td>Stuff</td>\n",
       "      <td>6</td>\n",
       "      <td>16.32</td>\n",
       "      <td>97.92</td>\n",
       "      <td>7</td>\n",
       "      <td>2</td>\n",
       "      <td>2016</td>\n",
       "      <td>0</td>\n",
       "      <td>0</td>\n",
       "    </tr>\n",
       "    <tr>\n",
       "      <th>497</th>\n",
       "      <td>Sara Snyder</td>\n",
       "      <td>Massachusetts</td>\n",
       "      <td>East</td>\n",
       "      <td>Susan Watkins</td>\n",
       "      <td>2016-02-07</td>\n",
       "      <td>Widgets</td>\n",
       "      <td>7</td>\n",
       "      <td>53.35</td>\n",
       "      <td>373.45</td>\n",
       "      <td>7</td>\n",
       "      <td>2</td>\n",
       "      <td>2016</td>\n",
       "      <td>0</td>\n",
       "      <td>0</td>\n",
       "    </tr>\n",
       "    <tr>\n",
       "      <th>498</th>\n",
       "      <td>Patrick Graham</td>\n",
       "      <td>Washington</td>\n",
       "      <td>West</td>\n",
       "      <td>Craig Reyes</td>\n",
       "      <td>2016-02-07</td>\n",
       "      <td>Junk</td>\n",
       "      <td>9</td>\n",
       "      <td>12.42</td>\n",
       "      <td>111.78</td>\n",
       "      <td>7</td>\n",
       "      <td>2</td>\n",
       "      <td>2016</td>\n",
       "      <td>0</td>\n",
       "      <td>0</td>\n",
       "    </tr>\n",
       "    <tr>\n",
       "      <th>499</th>\n",
       "      <td>Patrick Graham</td>\n",
       "      <td>Oregon</td>\n",
       "      <td>West</td>\n",
       "      <td>Teresa Fisher</td>\n",
       "      <td>2016-02-08</td>\n",
       "      <td>Widgets</td>\n",
       "      <td>5</td>\n",
       "      <td>53.35</td>\n",
       "      <td>266.75</td>\n",
       "      <td>8</td>\n",
       "      <td>2</td>\n",
       "      <td>2016</td>\n",
       "      <td>0</td>\n",
       "      <td>0</td>\n",
       "    </tr>\n",
       "  </tbody>\n",
       "</table>\n",
       "<p>500 rows × 14 columns</p>\n",
       "</div>"
      ],
      "text/plain": [
       "    Sales Representative       Location Region          Customer Order Date  \\\n",
       "0         Patrick Graham     Washington   West      Jeremy Baker 2016-04-01   \n",
       "1         Frances Warren     New Jersey   East       Albert Dunn 2016-04-01   \n",
       "2            Sara Snyder       New York   East      Robert Hayes 2016-04-01   \n",
       "3           Randy Watson       New York   East      Cheryl Riley 2016-04-01   \n",
       "4           Randy Watson     New Jersey   East  Kimberly Coleman 2016-04-01   \n",
       "..                   ...            ...    ...               ...        ...   \n",
       "495       Patrick Graham     Washington   West      Karen Willis 2016-02-07   \n",
       "496       Frances Warren     New Jersey   East       Russell Day 2016-02-07   \n",
       "497          Sara Snyder  Massachusetts   East     Susan Watkins 2016-02-07   \n",
       "498       Patrick Graham     Washington   West       Craig Reyes 2016-02-07   \n",
       "499       Patrick Graham         Oregon   West     Teresa Fisher 2016-02-08   \n",
       "\n",
       "        Item  Quantity  Price  Total Sale Amount  day  month  year  minute  \\\n",
       "0       Junk         8  12.42              99.36    1      4  2016       0   \n",
       "1    Widgets         9  53.35             480.15    1      4  2016       0   \n",
       "2       Junk         4  12.42              49.68    1      4  2016       0   \n",
       "3    Widgets         5  53.35             266.75    1      4  2016       0   \n",
       "4    Widgets         2  53.35             106.70    1      4  2016       0   \n",
       "..       ...       ...    ...                ...  ...    ...   ...     ...   \n",
       "495     Junk         9  12.42             111.78    7      2  2016       0   \n",
       "496    Stuff         6  16.32              97.92    7      2  2016       0   \n",
       "497  Widgets         7  53.35             373.45    7      2  2016       0   \n",
       "498     Junk         9  12.42             111.78    7      2  2016       0   \n",
       "499  Widgets         5  53.35             266.75    8      2  2016       0   \n",
       "\n",
       "     hour  \n",
       "0       0  \n",
       "1       0  \n",
       "2       0  \n",
       "3       0  \n",
       "4       0  \n",
       "..    ...  \n",
       "495     0  \n",
       "496     0  \n",
       "497     0  \n",
       "498     0  \n",
       "499     0  \n",
       "\n",
       "[500 rows x 14 columns]"
      ]
     },
     "execution_count": 17,
     "metadata": {},
     "output_type": "execute_result"
    }
   ],
   "source": [
    "alldata.head(500)"
   ]
  },
  {
   "cell_type": "code",
   "execution_count": 19,
   "id": "207134a0",
   "metadata": {},
   "outputs": [
    {
     "data": {
      "text/html": [
       "<div>\n",
       "<style scoped>\n",
       "    .dataframe tbody tr th:only-of-type {\n",
       "        vertical-align: middle;\n",
       "    }\n",
       "\n",
       "    .dataframe tbody tr th {\n",
       "        vertical-align: top;\n",
       "    }\n",
       "\n",
       "    .dataframe thead th {\n",
       "        text-align: right;\n",
       "    }\n",
       "</style>\n",
       "<table border=\"1\" class=\"dataframe\">\n",
       "  <thead>\n",
       "    <tr style=\"text-align: right;\">\n",
       "      <th></th>\n",
       "      <th>Sales Representative</th>\n",
       "      <th>Location</th>\n",
       "      <th>Region</th>\n",
       "      <th>Customer</th>\n",
       "      <th>Order Date</th>\n",
       "      <th>Item</th>\n",
       "      <th>Quantity</th>\n",
       "      <th>Price</th>\n",
       "      <th>Total Sale Amount</th>\n",
       "      <th>day</th>\n",
       "      <th>month</th>\n",
       "      <th>year</th>\n",
       "      <th>minute</th>\n",
       "      <th>hour</th>\n",
       "    </tr>\n",
       "  </thead>\n",
       "  <tbody>\n",
       "  </tbody>\n",
       "</table>\n",
       "</div>"
      ],
      "text/plain": [
       "Empty DataFrame\n",
       "Columns: [Sales Representative, Location, Region, Customer, Order Date, Item, Quantity, Price, Total Sale Amount, day, month, year, minute, hour]\n",
       "Index: []"
      ]
     },
     "metadata": {},
     "output_type": "display_data"
    }
   ],
   "source": [
    "#deleting null data \n",
    "ndf=alldata[alldata.isna().any(axis=1)]#axis=1 means column wise operation means it will chack mull value col by col\n",
    "display(ndf.head())\n",
    "#the output shows that there is no null value"
   ]
  },
  {
   "cell_type": "code",
   "execution_count": 20,
   "id": "d64e3169",
   "metadata": {},
   "outputs": [],
   "source": [
    "alldata=alldata.dropna(how='all')\n",
    "# dropna() will look for rows with missing values. If it finds a row with a missing value, it will drop the entire row.\n",
    "\n"
   ]
  },
  {
   "cell_type": "code",
   "execution_count": 21,
   "id": "2c5d5109",
   "metadata": {},
   "outputs": [
    {
     "name": "stdout",
     "output_type": "stream",
     "text": [
      "<class 'pandas.core.frame.DataFrame'>\n",
      "Int64Index: 3888 entries, 0 to 3887\n",
      "Data columns (total 14 columns):\n",
      " #   Column                Non-Null Count  Dtype         \n",
      "---  ------                --------------  -----         \n",
      " 0   Sales Representative  3888 non-null   object        \n",
      " 1   Location              3888 non-null   object        \n",
      " 2   Region                3888 non-null   object        \n",
      " 3   Customer              3888 non-null   object        \n",
      " 4   Order Date            3888 non-null   datetime64[ns]\n",
      " 5   Item                  3888 non-null   object        \n",
      " 6   Quantity              3888 non-null   int64         \n",
      " 7   Price                 3888 non-null   float64       \n",
      " 8   Total Sale Amount     3888 non-null   float64       \n",
      " 9   day                   3888 non-null   int64         \n",
      " 10  month                 3888 non-null   int64         \n",
      " 11  year                  3888 non-null   int64         \n",
      " 12  minute                3888 non-null   int64         \n",
      " 13  hour                  3888 non-null   int64         \n",
      "dtypes: datetime64[ns](1), float64(2), int64(6), object(5)\n",
      "memory usage: 455.6+ KB\n"
     ]
    }
   ],
   "source": [
    "alldata.info()"
   ]
  },
  {
   "cell_type": "code",
   "execution_count": 22,
   "id": "3e48c58c",
   "metadata": {},
   "outputs": [
    {
     "data": {
      "image/png": "[encoded data removed]",
      "text/plain": [
       "<Figure size 432x288 with 1 Axes>"
      ]
     },
     "metadata": {},
     "output_type": "display_data"
    }
   ],
   "source": [
    "#We are checking in which region the sales are most \n",
    "sns.set(style=\"darkgrid\")#countplot is used when we have to see thre performance of specific area in the form of plot that which one is better\n",
    "REGION=sns.countplot(x=\"Region\",data=alldata).set_title(\"DEMANDING REGION\")"
   ]
  },
  {
   "cell_type": "code",
   "execution_count": 23,
   "id": "dc980f9e",
   "metadata": {},
   "outputs": [
    {
     "data": {
      "image/png": "[encoded data removed]",
      "text/plain": [
       "<Figure size 432x288 with 1 Axes>"
      ]
     },
     "metadata": {},
     "output_type": "display_data"
    }
   ],
   "source": [
    "#In this we are checking in which location the response is good this helps mostly when we havwe to open any new branch\n",
    "sns.set(style=\"whitegrid\")\n",
    "REGION=sns.countplot(x=\"Location\",data=alldata).set_title(\"Location Selection\")"
   ]
  },
  {
   "cell_type": "code",
   "execution_count": 25,
   "id": "4ab5375c",
   "metadata": {},
   "outputs": [
    {
     "data": {
      "image/png": "[encoded data removed]",
      "text/plain": [
       "<Figure size 432x288 with 1 Axes>"
      ]
     },
     "metadata": {},
     "output_type": "display_data"
    }
   ],
   "source": [
    "#Checking the top sales representatives for manager selection of new branch\n",
    "sns.set(style=\"dark\")\n",
    "REGION=sns.countplot(x=\"Sales Representative\",data=alldata).set_title(\"Manager Selection\")"
   ]
  },
  {
   "cell_type": "code",
   "execution_count": 26,
   "id": "75858252",
   "metadata": {},
   "outputs": [
    {
     "data": {
      "image/png": "[encoded data removed]",
      "text/plain": [
       "<Figure size 432x288 with 1 Axes>"
      ]
     },
     "metadata": {},
     "output_type": "display_data"
    }
   ],
   "source": [
    "#sale of items on the basis of days\n",
    "gendercount=sns.lineplot(x=\"day\",y=\"Item\",data=alldata).set_title(\"Items Per Day\")"
   ]
  },
  {
   "cell_type": "code",
   "execution_count": 27,
   "id": "17dd9787",
   "metadata": {},
   "outputs": [
    {
     "data": {
      "image/png": "[encoded data removed]",
      "text/plain": [
       "<Figure size 432x288 with 1 Axes>"
      ]
     },
     "metadata": {},
     "output_type": "display_data"
    }
   ],
   "source": [
    "#sale of items on the basis of hour\n",
    "gendercount=sns.lineplot(x=\"hour\",y=\"Item\",data=alldata).set_title(\"Items Per Hour\")"
   ]
  },
  {
   "cell_type": "code",
   "execution_count": 28,
   "id": "c1f6b60c",
   "metadata": {},
   "outputs": [
    {
     "data": {
      "text/plain": [
       "Text(0.5, 1.0, 'Most Demanded Item')"
      ]
     },
     "execution_count": 28,
     "metadata": {},
     "output_type": "execute_result"
    },
    {
     "data": {
      "image/png": "[encoded data removed]",
      "text/plain": [
       "<Figure size 432x288 with 1 Axes>"
      ]
     },
     "metadata": {},
     "output_type": "display_data"
    }
   ],
   "source": [
    "#Item which has the most selling\n",
    "sns.countplot(y=\"Item\",data=alldata).set_title(\"Most Demanded Item\")\n"
   ]
  },
  {
   "cell_type": "code",
   "execution_count": 30,
   "id": "ca41def9",
   "metadata": {},
   "outputs": [
    {
     "data": {
      "text/plain": [
       "Text(0.5, 1.0, 'Item Price')"
      ]
     },
     "execution_count": 30,
     "metadata": {},
     "output_type": "execute_result"
    },
    {
     "data": {
      "image/png": "[encoded data removed]",
      "text/plain": [
       "<Figure size 432x288 with 1 Axes>"
      ]
     },
     "metadata": {},
     "output_type": "display_data"
    }
   ],
   "source": [
    "#Line graphs are used to track changes over short and long periods of time. When smaller changes exist, line graphs are better to use than bar graphs. \n",
    "#To check price of Items\n",
    "sns.lineplot(y=\"Item\",x=\"Price\",data=alldata).set_title(\"Item Price\")"
   ]
  },
  {
   "cell_type": "code",
   "execution_count": 32,
   "id": "dd2a4d4d",
   "metadata": {},
   "outputs": [
    {
     "data": {
      "text/plain": [
       "<AxesSubplot:xlabel='Customer', ylabel='Total Sale Amount'>"
      ]
     },
     "execution_count": 32,
     "metadata": {},
     "output_type": "execute_result"
    },
    {
     "data": {
      "image/png": "[encoded data removed]",
      "text/plain": [
       "<Figure size 432x288 with 1 Axes>"
      ]
     },
     "metadata": {},
     "output_type": "display_data"
    }
   ],
   "source": [
    "#. From a bar chart, we can see which groups are highest or most common, and how other groups compare against the others.\n",
    "#checking the total sale amount that cusdtomers mostly shop as the salesamount is increasing bar chaert is dimming\n",
    "sns.barplot(x=\"Customer\",y=\"Total Sale Amount\",estimator=sum,data=alldata)"
   ]
  },
  {
   "cell_type": "code",
   "execution_count": null,
   "id": "f533c2ae",
   "metadata": {},
   "outputs": [],
   "source": []
  }
 ],
 "metadata": {
  "kernelspec": {
   "display_name": "Python 3 (ipykernel)",
   "language": "python",
   "name": "python3"
  },
  "language_info": {
   "codemirror_mode": {
    "name": "ipython",
    "version": 3
   },
   "file_extension": ".py",
   "mimetype": "text/x-python",
   "name": "python",
   "nbconvert_exporter": "python",
   "pygments_lexer": "ipython3",
   "version": "3.9.0"
  }
 },
 "nbformat": 4,
 "nbformat_minor": 5
}
