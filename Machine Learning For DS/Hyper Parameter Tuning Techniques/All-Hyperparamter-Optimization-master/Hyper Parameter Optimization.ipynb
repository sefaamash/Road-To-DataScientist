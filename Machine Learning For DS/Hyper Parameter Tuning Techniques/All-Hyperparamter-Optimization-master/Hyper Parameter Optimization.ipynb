{
 "cells": [
  {
   "cell_type": "markdown",
   "metadata": {},
   "source": [
    "### All Techniques Of Hyper Parameter Optimization\n",
    "\n",
    "1. GridSearchCV\n",
    "2. RandomizedSearchCV\n",
    "3. Bayesian Optimization -Automate Hyperparameter Tuning (Hyperopt)\n",
    "4. Sequential Model Based Optimization(Tuning a scikit-learn estimator with skopt)\n",
    "4. Optuna- Automate Hyperparameter Tuning\n",
    "5. Genetic Algorithms (TPOT Classifier) #FOR LARGE DATASETS NOT SO COMPATABLE FOR SMALL DATASETS\n",
    "\n",
    "###### References\n",
    "- https://github.com/fmfn/BayesianOptimization\n",
    "- https://github.com/hyperopt/hyperopt\n",
    "- https://www.jeremyjordan.me/hyperparameter-tuning/\n",
    "- https://optuna.org/\n",
    "- https://towardsdatascience.com/hyperparameters-optimization-526348bb8e2d(By Pier Paolo Ippolito )\n",
    "- https://scikit-optimize.github.io/stable/auto_examples/hyperparameter-optimization.html\n"
   ]
  },
  {
   "cell_type": "code",
   "execution_count": 10,
   "metadata": {},
   "outputs": [
    {
     "ename": "AttributeError",
     "evalue": "module 'warnings' has no attribute 'filterwarninRgs'",
     "output_type": "error",
     "traceback": [
      "\u001b[1;31m---------------------------------------------------------------------------\u001b[0m",
      "\u001b[1;31mAttributeError\u001b[0m                            Traceback (most recent call last)",
      "Input \u001b[1;32mIn [10]\u001b[0m, in \u001b[0;36m<module>\u001b[1;34m\u001b[0m\n\u001b[0;32m      1\u001b[0m \u001b[38;5;28;01mimport\u001b[39;00m \u001b[38;5;21;01mwarnings\u001b[39;00m \u001b[38;5;66;03m#THIS IS BEACUSE THE WARNINGNS I WAS GETTING IN SOME OF THE MODEL OF SKLEARN\u001b[39;00m\n\u001b[1;32m----> 2\u001b[0m \u001b[43mwarnings\u001b[49m\u001b[38;5;241;43m.\u001b[39;49m\u001b[43mfilterwarninRgs\u001b[49m(\u001b[38;5;124m'\u001b[39m\u001b[38;5;124mignore\u001b[39m\u001b[38;5;124m'\u001b[39m)\n",
      "\u001b[1;31mAttributeError\u001b[0m: module 'warnings' has no attribute 'filterwarninRgs'"
     ]
    }
   ],
   "source": [
    "import warnings #THIS IS BEACUSE THE WARNINGNS I WAS GETTING IN SOME OF THE MODEL OF SKLEARN\n",
    "warnings.filterwarninRgs('ignore')"
   ]
  },
  {
   "cell_type": "code",
   "execution_count": 11,
   "metadata": {},
   "outputs": [
    {
     "data": {
      "text/html": [
       "<div>\n",
       "<style scoped>\n",
       "    .dataframe tbody tr th:only-of-type {\n",
       "        vertical-align: middle;\n",
       "    }\n",
       "\n",
       "    .dataframe tbody tr th {\n",
       "        vertical-align: top;\n",
       "    }\n",
       "\n",
       "    .dataframe thead th {\n",
       "        text-align: right;\n",
       "    }\n",
       "</style>\n",
       "<table border=\"1\" class=\"dataframe\">\n",
       "  <thead>\n",
       "    <tr style=\"text-align: right;\">\n",
       "      <th></th>\n",
       "      <th>Pregnancies</th>\n",
       "      <th>Glucose</th>\n",
       "      <th>BloodPressure</th>\n",
       "      <th>SkinThickness</th>\n",
       "      <th>Insulin</th>\n",
       "      <th>BMI</th>\n",
       "      <th>DiabetesPedigreeFunction</th>\n",
       "      <th>Age</th>\n",
       "      <th>Outcome</th>\n",
       "    </tr>\n",
       "  </thead>\n",
       "  <tbody>\n",
       "    <tr>\n",
       "      <th>0</th>\n",
       "      <td>6</td>\n",
       "      <td>148</td>\n",
       "      <td>72</td>\n",
       "      <td>35</td>\n",
       "      <td>0</td>\n",
       "      <td>33.6</td>\n",
       "      <td>0.627</td>\n",
       "      <td>50</td>\n",
       "      <td>1</td>\n",
       "    </tr>\n",
       "    <tr>\n",
       "      <th>1</th>\n",
       "      <td>1</td>\n",
       "      <td>85</td>\n",
       "      <td>66</td>\n",
       "      <td>29</td>\n",
       "      <td>0</td>\n",
       "      <td>26.6</td>\n",
       "      <td>0.351</td>\n",
       "      <td>31</td>\n",
       "      <td>0</td>\n",
       "    </tr>\n",
       "    <tr>\n",
       "      <th>2</th>\n",
       "      <td>8</td>\n",
       "      <td>183</td>\n",
       "      <td>64</td>\n",
       "      <td>0</td>\n",
       "      <td>0</td>\n",
       "      <td>23.3</td>\n",
       "      <td>0.672</td>\n",
       "      <td>32</td>\n",
       "      <td>1</td>\n",
       "    </tr>\n",
       "    <tr>\n",
       "      <th>3</th>\n",
       "      <td>1</td>\n",
       "      <td>89</td>\n",
       "      <td>66</td>\n",
       "      <td>23</td>\n",
       "      <td>94</td>\n",
       "      <td>28.1</td>\n",
       "      <td>0.167</td>\n",
       "      <td>21</td>\n",
       "      <td>0</td>\n",
       "    </tr>\n",
       "    <tr>\n",
       "      <th>4</th>\n",
       "      <td>0</td>\n",
       "      <td>137</td>\n",
       "      <td>40</td>\n",
       "      <td>35</td>\n",
       "      <td>168</td>\n",
       "      <td>43.1</td>\n",
       "      <td>2.288</td>\n",
       "      <td>33</td>\n",
       "      <td>1</td>\n",
       "    </tr>\n",
       "  </tbody>\n",
       "</table>\n",
       "</div>"
      ],
      "text/plain": [
       "   Pregnancies  Glucose  BloodPressure  SkinThickness  Insulin   BMI  \\\n",
       "0            6      148             72             35        0  33.6   \n",
       "1            1       85             66             29        0  26.6   \n",
       "2            8      183             64              0        0  23.3   \n",
       "3            1       89             66             23       94  28.1   \n",
       "4            0      137             40             35      168  43.1   \n",
       "\n",
       "   DiabetesPedigreeFunction  Age  Outcome  \n",
       "0                     0.627   50        1  \n",
       "1                     0.351   31        0  \n",
       "2                     0.672   32        1  \n",
       "3                     0.167   21        0  \n",
       "4                     2.288   33        1  "
      ]
     },
     "execution_count": 11,
     "metadata": {},
     "output_type": "execute_result"
    }
   ],
   "source": [
    "import pandas as pd\n",
    "df=pd.read_csv('diabetes.csv')\n",
    "df.head()"
   ]
  },
  {
   "cell_type": "code",
   "execution_count": 12,
   "metadata": {},
   "outputs": [
    {
     "data": {
      "text/html": [
       "<div>\n",
       "<style scoped>\n",
       "    .dataframe tbody tr th:only-of-type {\n",
       "        vertical-align: middle;\n",
       "    }\n",
       "\n",
       "    .dataframe tbody tr th {\n",
       "        vertical-align: top;\n",
       "    }\n",
       "\n",
       "    .dataframe thead th {\n",
       "        text-align: right;\n",
       "    }\n",
       "</style>\n",
       "<table border=\"1\" class=\"dataframe\">\n",
       "  <thead>\n",
       "    <tr style=\"text-align: right;\">\n",
       "      <th></th>\n",
       "      <th>Pregnancies</th>\n",
       "      <th>Glucose</th>\n",
       "      <th>BloodPressure</th>\n",
       "      <th>SkinThickness</th>\n",
       "      <th>Insulin</th>\n",
       "      <th>BMI</th>\n",
       "      <th>DiabetesPedigreeFunction</th>\n",
       "      <th>Age</th>\n",
       "      <th>Outcome</th>\n",
       "    </tr>\n",
       "  </thead>\n",
       "  <tbody>\n",
       "    <tr>\n",
       "      <th>0</th>\n",
       "      <td>6</td>\n",
       "      <td>148.0</td>\n",
       "      <td>72</td>\n",
       "      <td>35.0</td>\n",
       "      <td>30.5</td>\n",
       "      <td>33.6</td>\n",
       "      <td>0.627</td>\n",
       "      <td>50</td>\n",
       "      <td>1</td>\n",
       "    </tr>\n",
       "    <tr>\n",
       "      <th>1</th>\n",
       "      <td>1</td>\n",
       "      <td>85.0</td>\n",
       "      <td>66</td>\n",
       "      <td>29.0</td>\n",
       "      <td>30.5</td>\n",
       "      <td>26.6</td>\n",
       "      <td>0.351</td>\n",
       "      <td>31</td>\n",
       "      <td>0</td>\n",
       "    </tr>\n",
       "    <tr>\n",
       "      <th>2</th>\n",
       "      <td>8</td>\n",
       "      <td>183.0</td>\n",
       "      <td>64</td>\n",
       "      <td>23.0</td>\n",
       "      <td>30.5</td>\n",
       "      <td>23.3</td>\n",
       "      <td>0.672</td>\n",
       "      <td>32</td>\n",
       "      <td>1</td>\n",
       "    </tr>\n",
       "    <tr>\n",
       "      <th>3</th>\n",
       "      <td>1</td>\n",
       "      <td>89.0</td>\n",
       "      <td>66</td>\n",
       "      <td>23.0</td>\n",
       "      <td>94.0</td>\n",
       "      <td>28.1</td>\n",
       "      <td>0.167</td>\n",
       "      <td>21</td>\n",
       "      <td>0</td>\n",
       "    </tr>\n",
       "    <tr>\n",
       "      <th>4</th>\n",
       "      <td>0</td>\n",
       "      <td>137.0</td>\n",
       "      <td>40</td>\n",
       "      <td>35.0</td>\n",
       "      <td>168.0</td>\n",
       "      <td>43.1</td>\n",
       "      <td>2.288</td>\n",
       "      <td>33</td>\n",
       "      <td>1</td>\n",
       "    </tr>\n",
       "  </tbody>\n",
       "</table>\n",
       "</div>"
      ],
      "text/plain": [
       "   Pregnancies  Glucose  BloodPressure  SkinThickness  Insulin   BMI  \\\n",
       "0            6    148.0             72           35.0     30.5  33.6   \n",
       "1            1     85.0             66           29.0     30.5  26.6   \n",
       "2            8    183.0             64           23.0     30.5  23.3   \n",
       "3            1     89.0             66           23.0     94.0  28.1   \n",
       "4            0    137.0             40           35.0    168.0  43.1   \n",
       "\n",
       "   DiabetesPedigreeFunction  Age  Outcome  \n",
       "0                     0.627   50        1  \n",
       "1                     0.351   31        0  \n",
       "2                     0.672   32        1  \n",
       "3                     0.167   21        0  \n",
       "4                     2.288   33        1  "
      ]
     },
     "execution_count": 12,
     "metadata": {},
     "output_type": "execute_result"
    }
   ],
   "source": [
    "import numpy as np#The numpy. where() function returns the indices of elements in an input array where the given condition is satisfied. Parameters: condition : When True, yield x, otherwise yield y.\n",
    "df['Glucose']=np.where(df['Glucose']==0,df['Glucose'].median(),df['Glucose'])#LOGICALLY GLUCOSE CANNOT BE 0 SO EHAT WE ARE DOING THAT WHERE EVER GLUCOSD VALUE==0 WE ARE REPLACING IT WITH THE MEDIAN OF THE GLUCOSE COLUMN AND IF ITS NOT 0 THEN WE ARE KEEPING THE SAME VALUE\n",
    "df['Insulin']=np.where(df['Insulin']==0,df['Insulin'].median(),df['Insulin'])\n",
    "df['SkinThickness']=np.where(df['SkinThickness']==0,df['SkinThickness'].median(),df['SkinThickness'])\n",
    "df.head()\n",
    "#I DIDNT REPLACE WITH MEAN BECAUSE THE OUTLIERS WILL THEN AFFECT OUR PROBLEM"
   ]
  },
  {
   "cell_type": "code",
   "execution_count": 13,
   "metadata": {},
   "outputs": [],
   "source": [
    "#### Independent And Dependent features\n",
    "X=df.drop('Outcome',axis=1)\n",
    "y=df['Outcome']"
   ]
  },
  {
   "cell_type": "code",
   "execution_count": 14,
   "metadata": {},
   "outputs": [
    {
     "data": {
      "text/html": [
       "<div>\n",
       "<style scoped>\n",
       "    .dataframe tbody tr th:only-of-type {\n",
       "        vertical-align: middle;\n",
       "    }\n",
       "\n",
       "    .dataframe tbody tr th {\n",
       "        vertical-align: top;\n",
       "    }\n",
       "\n",
       "    .dataframe thead th {\n",
       "        text-align: right;\n",
       "    }\n",
       "</style>\n",
       "<table border=\"1\" class=\"dataframe\">\n",
       "  <thead>\n",
       "    <tr style=\"text-align: right;\">\n",
       "      <th></th>\n",
       "      <th>Pregnancies</th>\n",
       "      <th>Glucose</th>\n",
       "      <th>BloodPressure</th>\n",
       "      <th>SkinThickness</th>\n",
       "      <th>Insulin</th>\n",
       "      <th>BMI</th>\n",
       "      <th>DiabetesPedigreeFunction</th>\n",
       "      <th>Age</th>\n",
       "    </tr>\n",
       "  </thead>\n",
       "  <tbody>\n",
       "    <tr>\n",
       "      <th>0</th>\n",
       "      <td>6</td>\n",
       "      <td>148.0</td>\n",
       "      <td>72</td>\n",
       "      <td>35.0</td>\n",
       "      <td>30.5</td>\n",
       "      <td>33.6</td>\n",
       "      <td>0.627</td>\n",
       "      <td>50</td>\n",
       "    </tr>\n",
       "    <tr>\n",
       "      <th>1</th>\n",
       "      <td>1</td>\n",
       "      <td>85.0</td>\n",
       "      <td>66</td>\n",
       "      <td>29.0</td>\n",
       "      <td>30.5</td>\n",
       "      <td>26.6</td>\n",
       "      <td>0.351</td>\n",
       "      <td>31</td>\n",
       "    </tr>\n",
       "    <tr>\n",
       "      <th>2</th>\n",
       "      <td>8</td>\n",
       "      <td>183.0</td>\n",
       "      <td>64</td>\n",
       "      <td>23.0</td>\n",
       "      <td>30.5</td>\n",
       "      <td>23.3</td>\n",
       "      <td>0.672</td>\n",
       "      <td>32</td>\n",
       "    </tr>\n",
       "    <tr>\n",
       "      <th>3</th>\n",
       "      <td>1</td>\n",
       "      <td>89.0</td>\n",
       "      <td>66</td>\n",
       "      <td>23.0</td>\n",
       "      <td>94.0</td>\n",
       "      <td>28.1</td>\n",
       "      <td>0.167</td>\n",
       "      <td>21</td>\n",
       "    </tr>\n",
       "    <tr>\n",
       "      <th>4</th>\n",
       "      <td>0</td>\n",
       "      <td>137.0</td>\n",
       "      <td>40</td>\n",
       "      <td>35.0</td>\n",
       "      <td>168.0</td>\n",
       "      <td>43.1</td>\n",
       "      <td>2.288</td>\n",
       "      <td>33</td>\n",
       "    </tr>\n",
       "    <tr>\n",
       "      <th>...</th>\n",
       "      <td>...</td>\n",
       "      <td>...</td>\n",
       "      <td>...</td>\n",
       "      <td>...</td>\n",
       "      <td>...</td>\n",
       "      <td>...</td>\n",
       "      <td>...</td>\n",
       "      <td>...</td>\n",
       "    </tr>\n",
       "    <tr>\n",
       "      <th>763</th>\n",
       "      <td>10</td>\n",
       "      <td>101.0</td>\n",
       "      <td>76</td>\n",
       "      <td>48.0</td>\n",
       "      <td>180.0</td>\n",
       "      <td>32.9</td>\n",
       "      <td>0.171</td>\n",
       "      <td>63</td>\n",
       "    </tr>\n",
       "    <tr>\n",
       "      <th>764</th>\n",
       "      <td>2</td>\n",
       "      <td>122.0</td>\n",
       "      <td>70</td>\n",
       "      <td>27.0</td>\n",
       "      <td>30.5</td>\n",
       "      <td>36.8</td>\n",
       "      <td>0.340</td>\n",
       "      <td>27</td>\n",
       "    </tr>\n",
       "    <tr>\n",
       "      <th>765</th>\n",
       "      <td>5</td>\n",
       "      <td>121.0</td>\n",
       "      <td>72</td>\n",
       "      <td>23.0</td>\n",
       "      <td>112.0</td>\n",
       "      <td>26.2</td>\n",
       "      <td>0.245</td>\n",
       "      <td>30</td>\n",
       "    </tr>\n",
       "    <tr>\n",
       "      <th>766</th>\n",
       "      <td>1</td>\n",
       "      <td>126.0</td>\n",
       "      <td>60</td>\n",
       "      <td>23.0</td>\n",
       "      <td>30.5</td>\n",
       "      <td>30.1</td>\n",
       "      <td>0.349</td>\n",
       "      <td>47</td>\n",
       "    </tr>\n",
       "    <tr>\n",
       "      <th>767</th>\n",
       "      <td>1</td>\n",
       "      <td>93.0</td>\n",
       "      <td>70</td>\n",
       "      <td>31.0</td>\n",
       "      <td>30.5</td>\n",
       "      <td>30.4</td>\n",
       "      <td>0.315</td>\n",
       "      <td>23</td>\n",
       "    </tr>\n",
       "  </tbody>\n",
       "</table>\n",
       "<p>768 rows × 8 columns</p>\n",
       "</div>"
      ],
      "text/plain": [
       "     Pregnancies  Glucose  BloodPressure  SkinThickness  Insulin   BMI  \\\n",
       "0              6    148.0             72           35.0     30.5  33.6   \n",
       "1              1     85.0             66           29.0     30.5  26.6   \n",
       "2              8    183.0             64           23.0     30.5  23.3   \n",
       "3              1     89.0             66           23.0     94.0  28.1   \n",
       "4              0    137.0             40           35.0    168.0  43.1   \n",
       "..           ...      ...            ...            ...      ...   ...   \n",
       "763           10    101.0             76           48.0    180.0  32.9   \n",
       "764            2    122.0             70           27.0     30.5  36.8   \n",
       "765            5    121.0             72           23.0    112.0  26.2   \n",
       "766            1    126.0             60           23.0     30.5  30.1   \n",
       "767            1     93.0             70           31.0     30.5  30.4   \n",
       "\n",
       "     DiabetesPedigreeFunction  Age  \n",
       "0                       0.627   50  \n",
       "1                       0.351   31  \n",
       "2                       0.672   32  \n",
       "3                       0.167   21  \n",
       "4                       2.288   33  \n",
       "..                        ...  ...  \n",
       "763                     0.171   63  \n",
       "764                     0.340   27  \n",
       "765                     0.245   30  \n",
       "766                     0.349   47  \n",
       "767                     0.315   23  \n",
       "\n",
       "[768 rows x 8 columns]"
      ]
     },
     "execution_count": 14,
     "metadata": {},
     "output_type": "execute_result"
    }
   ],
   "source": [
    "pd.DataFrame(X,columns=df.columns[:-1])"
   ]
  },
  {
   "cell_type": "code",
   "execution_count": 15,
   "metadata": {},
   "outputs": [],
   "source": [
    "#### Train Test Split\n",
    "from sklearn.model_selection import train_test_split\n",
    "X_train,X_test,y_train,y_test=train_test_split(X,y,test_size=0.20,random_state=0)"
   ]
  },
  {
   "cell_type": "code",
   "execution_count": 16,
   "metadata": {},
   "outputs": [],
   "source": [
    "from sklearn.ensemble import RandomForestClassifier\n",
    "rf_classifier=RandomForestClassifier(n_estimators=10).fit(X_train,y_train)\n",
    "prediction=rf_classifier.predict(X_test)"
   ]
  },
  {
   "cell_type": "code",
   "execution_count": 17,
   "metadata": {},
   "outputs": [
    {
     "data": {
      "text/plain": [
       "0    500\n",
       "1    268\n",
       "Name: Outcome, dtype: int64"
      ]
     },
     "execution_count": 17,
     "metadata": {},
     "output_type": "execute_result"
    }
   ],
   "source": [
    "y.value_counts()"
   ]
  },
  {
   "cell_type": "code",
   "execution_count": 18,
   "metadata": {},
   "outputs": [
    {
     "name": "stdout",
     "output_type": "stream",
     "text": [
      "[[95 12]\n",
      " [22 25]]\n",
      "0.7792207792207793\n",
      "              precision    recall  f1-score   support\n",
      "\n",
      "           0       0.81      0.89      0.85       107\n",
      "           1       0.68      0.53      0.60        47\n",
      "\n",
      "    accuracy                           0.78       154\n",
      "   macro avg       0.74      0.71      0.72       154\n",
      "weighted avg       0.77      0.78      0.77       154\n",
      "\n"
     ]
    }
   ],
   "source": [
    "from sklearn.metrics import confusion_matrix,classification_report,accuracy_score\n",
    "print(confusion_matrix(y_test,prediction))\n",
    "print(accuracy_score(y_test,prediction))\n",
    "print(classification_report(y_test,prediction))"
   ]
  },
  {
   "cell_type": "markdown",
   "metadata": {},
   "source": [
    "The main parameters used by a Random Forest Classifier are:\n",
    "\n",
    "- criterion = the function used to evaluate the quality of a split.\n",
    "- max_depth = maximum number of levels allowed in each tree.\n",
    "- max_features = maximum number of features considered when splitting a node.\n",
    "- min_samples_leaf = minimum number of samples which can be stored in a tree leaf.\n",
    "- min_samples_split = minimum number of samples necessary in a node to cause node splitting.\n",
    "- n_estimators = number of trees in the ensamble."
   ]
  },
  {
   "cell_type": "code",
   "execution_count": 20,
   "metadata": {},
   "outputs": [
    {
     "name": "stdout",
     "output_type": "stream",
     "text": [
      "[[97 10]\n",
      " [17 30]]\n",
      "0.8246753246753247\n",
      "              precision    recall  f1-score   support\n",
      "\n",
      "           0       0.85      0.91      0.88       107\n",
      "           1       0.75      0.64      0.69        47\n",
      "\n",
      "    accuracy                           0.82       154\n",
      "   macro avg       0.80      0.77      0.78       154\n",
      "weighted avg       0.82      0.82      0.82       154\n",
      "\n"
     ]
    }
   ],
   "source": [
    "### Manual Hyperparameter Tuning means i am randomly giving the values according to my mood i dont know why i am doing it\n",
    "model=RandomForestClassifier(n_estimators=300,criterion='entropy',\n",
    "                             max_features='sqrt',min_samples_leaf=10,random_state=100).fit(X_train,y_train)\n",
    "predictions=model.predict(X_test)\n",
    "print(confusion_matrix(y_test,predictions))\n",
    "print(accuracy_score(y_test,predictions))\n",
    "print(classification_report(y_test,predictions))"
   ]
  },
  {
   "cell_type": "markdown",
   "metadata": {},
   "source": [
    "##### Randomized Search Cv"
   ]
  },
  {
   "cell_type": "code",
   "execution_count": null,
   "metadata": {},
   "outputs": [],
   "source": [
    "numpy.linspace(start, stop, num=50, endpoint=True, retstep=False, dtype=None, axis=0)[source]\n",
    "Return evenly spaced numbers over a specified interval.\n",
    "np.linspace(2.0, 3.0, num=5)\n",
    "array([2.  , 2.25, 2.5 , 2.75, 3.  ])"
   ]
  },
  {
   "cell_type": "code",
   "execution_count": 21,
   "metadata": {},
   "outputs": [
    {
     "name": "stdout",
     "output_type": "stream",
     "text": [
      "{'n_estimators': [200, 400, 600, 800, 1000, 1200, 1400, 1600, 1800, 2000], 'max_features': ['auto', 'sqrt', 'log2'], 'max_depth': [10, 120, 230, 340, 450, 560, 670, 780, 890, 1000], 'min_samples_split': [2, 5, 10, 14], 'min_samples_leaf': [1, 2, 4, 6, 8], 'criterion': ['entropy', 'gini']}\n"
     ]
    }
   ],
   "source": [
    "import numpy as np\n",
    "from sklearn.model_selection import RandomizedSearchCV\n",
    "# Number of trees in random forest\n",
    "n_estimators = [int(x) for x in np.linspace(start = 200, stop = 2000, num = 10)]\n",
    "# Number of features to consider at every split\n",
    "max_features = ['auto', 'sqrt','log2']\n",
    "# Maximum number of levels in tree\n",
    "max_depth = [int(x) for x in np.linspace(10, 1000,10)]\n",
    "# Minimum number of samples required to split a node\n",
    "min_samples_split = [2, 5, 10,14]\n",
    "# Minimum number of samples required at each leaf node\n",
    "min_samples_leaf = [1, 2, 4,6,8]\n",
    "# Create the random grid\n",
    "random_grid = {'n_estimators': n_estimators,\n",
    "               'max_features': max_features,\n",
    "               'max_depth': max_depth,\n",
    "               'min_samples_split': min_samples_split,\n",
    "               'min_samples_leaf': min_samples_leaf,\n",
    "              'criterion':['entropy','gini']}\n",
    "print(random_grid)"
   ]
  },
  {
   "cell_type": "code",
   "execution_count": 22,
   "metadata": {},
   "outputs": [
    {
     "name": "stdout",
     "output_type": "stream",
     "text": [
      "Fitting 3 folds for each of 100 candidates, totalling 300 fits\n"
     ]
    },
    {
     "data": {
      "text/plain": [
       "RandomizedSearchCV(cv=3, estimator=RandomForestClassifier(), n_iter=100,\n",
       "                   n_jobs=-1,\n",
       "                   param_distributions={'criterion': ['entropy', 'gini'],\n",
       "                                        'max_depth': [10, 120, 230, 340, 450,\n",
       "                                                      560, 670, 780, 890,\n",
       "                                                      1000],\n",
       "                                        'max_features': ['auto', 'sqrt',\n",
       "                                                         'log2'],\n",
       "                                        'min_samples_leaf': [1, 2, 4, 6, 8],\n",
       "                                        'min_samples_split': [2, 5, 10, 14],\n",
       "                                        'n_estimators': [200, 400, 600, 800,\n",
       "                                                         1000, 1200, 1400, 1600,\n",
       "                                                         1800, 2000]},\n",
       "                   random_state=100, verbose=2)"
      ]
     },
     "execution_count": 22,
     "metadata": {},
     "output_type": "execute_result"
    }
   ],
   "source": [
    "from sklearn.ensemble import RandomForestClassifier\n",
    "rf=RandomForestClassifier()\n",
    "rf_randomcv=RandomizedSearchCV(estimator=rf,param_distributions=random_grid,n_iter=100,cv=3,verbose=2,\n",
    "random_state=100,n_jobs=-1)\n",
    "### fit the randomized model\n",
    "rf_randomcv.fit(X_train,y_train)\n",
    "#in param_distribution u have to provide your random grid that key values that you have set aove (cv is cross validation it is used to  Cross-Validation is a statistical method of evaluating and comparing learning algorithms by dividing data into two segments: one used to learn or train a model and the other used to validate the model.)\n",
    " # fitting 3 folds means cv=3 3 segments then random state =300 both are multiplied to obtain total fits    "
   ]
  },
  {
   "cell_type": "code",
   "execution_count": 23,
   "metadata": {},
   "outputs": [
    {
     "data": {
      "text/plain": [
       "{'n_estimators': 1800,\n",
       " 'min_samples_split': 5,\n",
       " 'min_samples_leaf': 1,\n",
       " 'max_features': 'auto',\n",
       " 'max_depth': 450,\n",
       " 'criterion': 'gini'}"
      ]
     },
     "execution_count": 23,
     "metadata": {},
     "output_type": "execute_result"
    }
   ],
   "source": [
    "rf_randomcv.best_params_ #tells us the est possible values for each parameter"
   ]
  },
  {
   "cell_type": "code",
   "execution_count": 26,
   "metadata": {},
   "outputs": [
    {
     "data": {
      "text/plain": [
       "RandomizedSearchCV(cv=3, estimator=RandomForestClassifier(), n_iter=100,\n",
       "                   n_jobs=-1,\n",
       "                   param_distributions={'criterion': ['entropy', 'gini'],\n",
       "                                        'max_depth': [10, 120, 230, 340, 450,\n",
       "                                                      560, 670, 780, 890,\n",
       "                                                      1000],\n",
       "                                        'max_features': ['auto', 'sqrt',\n",
       "                                                         'log2'],\n",
       "                                        'min_samples_leaf': [1, 2, 4, 6, 8],\n",
       "                                        'min_samples_split': [2, 5, 10, 14],\n",
       "                                        'n_estimators': [200, 400, 600, 800,\n",
       "                                                         1000, 1200, 1400, 1600,\n",
       "                                                         1800, 2000]},\n",
       "                   random_state=100, verbose=2)"
      ]
     },
     "execution_count": 26,
     "metadata": {},
     "output_type": "execute_result"
    }
   ],
   "source": [
    "rf_randomcv "
   ]
  },
  {
   "cell_type": "code",
   "execution_count": 29,
   "metadata": {},
   "outputs": [
    {
     "data": {
      "text/plain": [
       "RandomForestClassifier(max_depth=450, min_samples_split=5, n_estimators=1800)"
      ]
     },
     "execution_count": 29,
     "metadata": {},
     "output_type": "execute_result"
    }
   ],
   "source": [
    "best_random_grid=rf_randomcv.best_estimator_ #tells us best parameters to select out of all and thier values\n",
    "best_random_grid"
   ]
  },
  {
   "cell_type": "code",
   "execution_count": 30,
   "metadata": {},
   "outputs": [
    {
     "name": "stdout",
     "output_type": "stream",
     "text": [
      "[[95 12]\n",
      " [14 33]]\n",
      "Accuracy Score 0.8311688311688312\n",
      "Classification report:               precision    recall  f1-score   support\n",
      "\n",
      "           0       0.87      0.89      0.88       107\n",
      "           1       0.73      0.70      0.72        47\n",
      "\n",
      "    accuracy                           0.83       154\n",
      "   macro avg       0.80      0.79      0.80       154\n",
      "weighted avg       0.83      0.83      0.83       154\n",
      "\n"
     ]
    }
   ],
   "source": [
    "from sklearn.metrics import accuracy_score\n",
    "y_pred=best_random_grid.predict(X_test)\n",
    "print(confusion_matrix(y_test,y_pred))\n",
    "print(\"Accuracy Score {}\".format(accuracy_score(y_test,y_pred)))\n",
    "print(\"Classification report: {}\".format(classification_report(y_test,y_pred)))"
   ]
  },
  {
   "cell_type": "markdown",
   "metadata": {},
   "source": [
    "#### GridSearch CV"
   ]
  },
  {
   "cell_type": "code",
   "execution_count": 31,
   "metadata": {},
   "outputs": [
    {
     "data": {
      "text/plain": [
       "{'n_estimators': 1800,\n",
       " 'min_samples_split': 5,\n",
       " 'min_samples_leaf': 1,\n",
       " 'max_features': 'auto',\n",
       " 'max_depth': 450,\n",
       " 'criterion': 'gini'}"
      ]
     },
     "execution_count": 31,
     "metadata": {},
     "output_type": "execute_result"
    }
   ],
   "source": [
    "rf_randomcv.best_params_"
   ]
  },
  {
   "cell_type": "code",
   "execution_count": 32,
   "metadata": {},
   "outputs": [
    {
     "name": "stdout",
     "output_type": "stream",
     "text": [
      "{'criterion': ['gini'], 'max_depth': [450], 'max_features': ['auto'], 'min_samples_leaf': [1, 3, 5], 'min_samples_split': [3, 4, 5, 6, 7], 'n_estimators': [1600, 1700, 1800, 1900, 2000]}\n"
     ]
    }
   ],
   "source": [
    "from sklearn.model_selection import GridSearchCV\n",
    "\n",
    "param_grid = {\n",
    "    'criterion': [rf_randomcv.best_params_['criterion']],\n",
    "    'max_depth': [rf_randomcv.best_params_['max_depth']],\n",
    "    'max_features': [rf_randomcv.best_params_['max_features']],\n",
    "    'min_samples_leaf': [rf_randomcv.best_params_['min_samples_leaf'], \n",
    "                         rf_randomcv.best_params_['min_samples_leaf']+2, \n",
    "                         rf_randomcv.best_params_['min_samples_leaf'] + 4],\n",
    "    'min_samples_split': [rf_randomcv.best_params_['min_samples_split'] - 2,\n",
    "                          rf_randomcv.best_params_['min_samples_split'] - 1,\n",
    "                          rf_randomcv.best_params_['min_samples_split'], \n",
    "                          rf_randomcv.best_params_['min_samples_split'] +1,\n",
    "                          rf_randomcv.best_params_['min_samples_split'] + 2],\n",
    "    'n_estimators': [rf_randomcv.best_params_['n_estimators'] - 200, rf_randomcv.best_params_['n_estimators'] - 100, \n",
    "                     rf_randomcv.best_params_['n_estimators'], \n",
    "                     rf_randomcv.best_params_['n_estimators'] + 100, rf_randomcv.best_params_['n_estimators'] + 200]\n",
    "}\n",
    "\n",
    "print(param_grid)"
   ]
  },
  {
   "cell_type": "code",
   "execution_count": 34,
   "metadata": {},
   "outputs": [
    {
     "data": {
      "text/plain": [
       "75"
      ]
     },
     "execution_count": 34,
     "metadata": {},
     "output_type": "execute_result"
    }
   ],
   "source": [
    "#grid cv iterate and it happens on the basis of no of parameters we selected foreg criterion has 1, max depth has 1, min sample leaf has 3 ,estimators has 5\n",
    "#so it will multiply all the no of parameters inside each parameter like this:\n",
    "1*1*1*3*5*5 # so total iteration in grid cv will be 75"
   ]
  },
  {
   "cell_type": "code",
   "execution_count": 35,
   "metadata": {},
   "outputs": [
    {
     "name": "stdout",
     "output_type": "stream",
     "text": [
      "Fitting 10 folds for each of 75 candidates, totalling 750 fits\n"
     ]
    },
    {
     "data": {
      "text/plain": [
       "GridSearchCV(cv=10, estimator=RandomForestClassifier(), n_jobs=-1,\n",
       "             param_grid={'criterion': ['gini'], 'max_depth': [450],\n",
       "                         'max_features': ['auto'],\n",
       "                         'min_samples_leaf': [1, 3, 5],\n",
       "                         'min_samples_split': [3, 4, 5, 6, 7],\n",
       "                         'n_estimators': [1600, 1700, 1800, 1900, 2000]},\n",
       "             verbose=2)"
      ]
     },
     "execution_count": 35,
     "metadata": {},
     "output_type": "execute_result"
    }
   ],
   "source": [
    "#### Fit the grid_search to the data\n",
    "rf=RandomForestClassifier()\n",
    "grid_search=GridSearchCV(estimator=rf,param_grid=param_grid,cv=10,n_jobs=-1,verbose=2)#n jobs means the cores njobs -1 means use all the cores of cpu\n",
    "#verbose is the description or details of each task completed and thier time of completion \n",
    "grid_search.fit(X_train,y_train)\n"
   ]
  },
  {
   "cell_type": "code",
   "execution_count": 36,
   "metadata": {},
   "outputs": [],
   "source": [
    "best_grid=grid_search.best_estimator_"
   ]
  },
  {
   "cell_type": "code",
   "execution_count": 37,
   "metadata": {},
   "outputs": [
    {
     "data": {
      "text/plain": [
       "RandomForestClassifier(max_depth=450, min_samples_split=3, n_estimators=1700)"
      ]
     },
     "execution_count": 37,
     "metadata": {},
     "output_type": "execute_result"
    }
   ],
   "source": [
    "best_grid"
   ]
  },
  {
   "cell_type": "code",
   "execution_count": 38,
   "metadata": {},
   "outputs": [
    {
     "name": "stdout",
     "output_type": "stream",
     "text": [
      "[[95 12]\n",
      " [14 33]]\n",
      "Accuracy Score 0.8311688311688312\n",
      "Classification report:               precision    recall  f1-score   support\n",
      "\n",
      "           0       0.87      0.89      0.88       107\n",
      "           1       0.73      0.70      0.72        47\n",
      "\n",
      "    accuracy                           0.83       154\n",
      "   macro avg       0.80      0.79      0.80       154\n",
      "weighted avg       0.83      0.83      0.83       154\n",
      "\n"
     ]
    }
   ],
   "source": [
    "y_pred=best_grid.predict(X_test)\n",
    "print(confusion_matrix(y_test,y_pred))\n",
    "print(\"Accuracy Score {}\".format(accuracy_score(y_test,y_pred)))\n",
    "print(\"Classification report: {}\".format(classification_report(y_test,y_pred)))"
   ]
  },
  {
   "cell_type": "markdown",
   "metadata": {},
   "source": [
    "### Automated Hyperparameter Tuning\n",
    "Automated Hyperparameter Tuning can be done by using techniques such as \n",
    "- Bayesian Optimization\n",
    "- Gradient Descent\n",
    "- Evolutionary Algorithms"
   ]
  },
  {
   "cell_type": "markdown",
   "metadata": {},
   "source": [
    "#### Bayesian Optimization\n",
    "Bayesian optimization uses probability to find the minimum of a function. The final aim is to find the input value to a function which can gives us the lowest possible output value.It usually performs better than random,grid and manual search providing better performance in the testing phase and reduced optimization time.\n",
    "In Hyperopt, Bayesian Optimization can be implemented giving 3 three main parameters to the function fmin.\n",
    "\n",
    "- Objective Function = defines the loss function to minimize.\n",
    "- Domain Space = defines the range of input values to test (in Bayesian Optimization this space creates a probability distribution for each of the used Hyperparameters).\n",
    "- Optimization Algorithm = defines the search algorithm to use to select the best input values to use in each new iteration."
   ]
  },
  {
   "cell_type": "code",
   "execution_count": 39,
   "metadata": {},
   "outputs": [],
   "source": [
    "from hyperopt import hp,fmin,tpe,STATUS_OK,Trials\n",
    "#hp is used whether selected range is int,float,string\n",
    "#trial will be responsible in minimizing the function \n",
    "#fmin will be responsible in minimizing the values"
   ]
  },
  {
   "cell_type": "code",
   "execution_count": 40,
   "metadata": {},
   "outputs": [],
   "source": [
    "#Domain space\n",
    "space = {'criterion': hp.choice('criterion', ['entropy', 'gini']),#hp.choice emeans this has 2 parameters so it will choose best one\n",
    "        'max_depth': hp.quniform('max_depth', 10, 1200, 10),#hp.quniform select integer value between the range of paarmeters we defined\n",
    "        'max_features': hp.choice('max_features', ['auto', 'sqrt','log2', None]),\n",
    "        'min_samples_leaf': hp.uniform('min_samples_leaf', 0, 0.5),#hp.uniform is to select range of numbers in float\n",
    "        'min_samples_split' : hp.uniform ('min_samples_split', 0, 1),\n",
    "        'n_estimators' : hp.choice('n_estimators', [10, 50, 300, 750, 1200,1300,1500])\n",
    "    }"
   ]
  },
  {
   "cell_type": "code",
   "execution_count": 41,
   "metadata": {},
   "outputs": [
    {
     "data": {
      "text/plain": [
       "{'criterion': <hyperopt.pyll.base.Apply at 0x14a25dbc250>,\n",
       " 'max_depth': <hyperopt.pyll.base.Apply at 0x14a25dbd060>,\n",
       " 'max_features': <hyperopt.pyll.base.Apply at 0x14a25dbd180>,\n",
       " 'min_samples_leaf': <hyperopt.pyll.base.Apply at 0x14a25dbcb80>,\n",
       " 'min_samples_split': <hyperopt.pyll.base.Apply at 0x14a25dbd5a0>,\n",
       " 'n_estimators': <hyperopt.pyll.base.Apply at 0x14a25dbd4b0>}"
      ]
     },
     "execution_count": 41,
     "metadata": {},
     "output_type": "execute_result"
    }
   ],
   "source": [
    "space"
   ]
  },
  {
   "cell_type": "code",
   "execution_count": 43,
   "metadata": {},
   "outputs": [],
   "source": [
    "from sklearn.model_selection import cross_val_score\n",
    "def objective(space):#function\n",
    "    model = RandomForestClassifier(criterion = space['criterion'], max_depth = space['max_depth'],\n",
    "                                 max_features = space['max_features'],\n",
    "                                 min_samples_leaf = space['min_samples_leaf'],\n",
    "                                 min_samples_split = space['min_samples_split'],\n",
    "                                 n_estimators = space['n_estimators'], \n",
    "                                 )#optimization algo\n",
    "    \n",
    "    accuracy = cross_val_score(model, X_train, y_train, cv = 5).mean()\n",
    "\n",
    "    # We aim to maximize accuracy, therefore we return it as a negative value\n",
    "    return {'loss': -accuracy, 'status': STATUS_OK }"
   ]
  },
  {
   "cell_type": "code",
   "execution_count": 44,
   "metadata": {},
   "outputs": [
    {
     "name": "stdout",
     "output_type": "stream",
     "text": [
      "100%|███████████████████████████████████████████████| 80/80 [09:17<00:00,  6.97s/trial, best loss: -0.7638144742103159]\n"
     ]
    },
    {
     "data": {
      "text/plain": [
       "{'criterion': 1,\n",
       " 'max_depth': 220.0,\n",
       " 'max_features': 2,\n",
       " 'min_samples_leaf': 0.08427447126012595,\n",
       " 'min_samples_split': 0.289304252439954,\n",
       " 'n_estimators': 6}"
      ]
     },
     "execution_count": 44,
     "metadata": {},
     "output_type": "execute_result"
    }
   ],
   "source": [
    "\n",
    "trials = Trials()#reduces or minimizes function\n",
    "best = fmin(fn= objective, #reduces or minimizes values\n",
    "            space= space,\n",
    "            algo= tpe.suggest,#tpe.suggest it will suggest the optimization algo that we use in our case it is random forest\n",
    "            max_evals = 80,\n",
    "            trials= trials)\n",
    "best"
   ]
  },
  {
   "cell_type": "code",
   "execution_count": 45,
   "metadata": {},
   "outputs": [
    {
     "name": "stdout",
     "output_type": "stream",
     "text": [
      "gini\n",
      "log2\n",
      "1500\n"
     ]
    }
   ],
   "source": [
    "#WE MAP OUR VARIABLE BECAUSE WHEN U RUN BEST['CRITERION'] YOU WILL GET 1 INSTEAD WHAT WE WANT GINI OR ENTROPY SO WE MAP 0 1 VALUES WITH OUR ACTUAL VALUES WE WANT LIKE HERE IT IS 1:gini.c\n",
    "crit = {0: 'entropy', 1: 'gini'}\n",
    "feat = {0: 'auto', 1: 'sqrt', 2: 'log2', 3: None}\n",
    "est = {0: 10, 1: 50, 2: 300, 3: 750, 4: 1200,5:1300,6:1500}\n",
    "\n",
    "\n",
    "print(crit[best['criterion']])\n",
    "print(feat[best['max_features']])\n",
    "print(est[best['n_estimators']])"
   ]
  },
  {
   "cell_type": "code",
   "execution_count": 46,
   "metadata": {},
   "outputs": [
    {
     "data": {
      "text/plain": [
       "0.08427447126012595"
      ]
     },
     "execution_count": 46,
     "metadata": {},
     "output_type": "execute_result"
    }
   ],
   "source": [
    "best['min_samples_leaf']"
   ]
  },
  {
   "cell_type": "code",
   "execution_count": 47,
   "metadata": {},
   "outputs": [
    {
     "name": "stdout",
     "output_type": "stream",
     "text": [
      "[[97 10]\n",
      " [25 22]]\n",
      "0.7727272727272727\n",
      "              precision    recall  f1-score   support\n",
      "\n",
      "           0       0.80      0.91      0.85       107\n",
      "           1       0.69      0.47      0.56        47\n",
      "\n",
      "    accuracy                           0.77       154\n",
      "   macro avg       0.74      0.69      0.70       154\n",
      "weighted avg       0.76      0.77      0.76       154\n",
      "\n"
     ]
    }
   ],
   "source": [
    "trainedforest = RandomForestClassifier(criterion = crit[best['criterion']], max_depth = best['max_depth'], \n",
    "                                       max_features = feat[best['max_features']], \n",
    "                                       min_samples_leaf = best['min_samples_leaf'], \n",
    "                                       min_samples_split = best['min_samples_split'], \n",
    "                                       n_estimators = est[best['n_estimators']]).fit(X_train,y_train)\n",
    "predictionforest = trainedforest.predict(X_test)\n",
    "print(confusion_matrix(y_test,predictionforest))\n",
    "print(accuracy_score(y_test,predictionforest))\n",
    "print(classification_report(y_test,predictionforest))\n",
    "acc5 = accuracy_score(y_test,predictionforest)"
   ]
  },
  {
   "cell_type": "markdown",
   "metadata": {},
   "source": [
    "#### Genetic Algorithms \n",
    "Genetic Algorithms tries to apply natural selection mechanisms to Machine Learning contexts.\n",
    "\n",
    "Let's immagine we create a population of N Machine Learning models with some predifined Hyperparameters. We can then calculate the accuracy of each model and decide to keep just half of the models (the ones that performs best). We can now generate some offsprings having similar Hyperparameters to the ones of the best models so that go get again a population of N models. At this point we can again caltulate the accuracy of each model and repeate the cycle for a defined number of generations. In this way, just the best models will survive at the end of the process."
   ]
  },
  {
   "cell_type": "code",
   "execution_count": 48,
   "metadata": {},
   "outputs": [
    {
     "name": "stdout",
     "output_type": "stream",
     "text": [
      "{'n_estimators': [200, 400, 600, 800, 1000, 1200, 1400, 1600, 1800, 2000], 'max_features': ['auto', 'sqrt', 'log2'], 'max_depth': [10, 120, 230, 340, 450, 560, 670, 780, 890, 1000], 'min_samples_split': [2, 5, 10, 14], 'min_samples_leaf': [1, 2, 4, 6, 8], 'criterion': ['entropy', 'gini']}\n"
     ]
    }
   ],
   "source": [
    "#genetic chooses top performing models out of models we selectrd and make offspring that mdels or u can say child with similar values or parameters\n",
    "#now with a example i am a offspring of my great grandfather and my father also so maybe the habits of my great grandfather will be in my grandfather then my dad them me so tahts why we call it genetic algorithmn\n",
    "import numpy as np\n",
    "from sklearn.model_selection import RandomizedSearchCV\n",
    "# Number of trees in random forest\n",
    "n_estimators = [int(x) for x in np.linspace(start = 200, stop = 2000, num = 10)]\n",
    "# Number of features to consider at every split\n",
    "max_features = ['auto', 'sqrt','log2']\n",
    "# Maximum number of levels in tree\n",
    "max_depth = [int(x) for x in np.linspace(10, 1000,10)]\n",
    "# Minimum number of samples required to split a node\n",
    "min_samples_split = [2, 5, 10,14]\n",
    "# Minimum number of samples required at each leaf node\n",
    "min_samples_leaf = [1, 2, 4,6,8]\n",
    "# Create the random grid\n",
    "param = {'n_estimators': n_estimators,\n",
    "               'max_features': max_features,\n",
    "               'max_depth': max_depth,\n",
    "               'min_samples_split': min_samples_split,\n",
    "               'min_samples_leaf': min_samples_leaf,\n",
    "              'criterion':['entropy','gini']}\n",
    "print(param)"
   ]
  },
  {
   "cell_type": "code",
   "execution_count": null,
   "metadata": {},
   "outputs": [],
   "source": [
    "from tpot import TPOTClassifier #required tensorflow to run\n",
    "\n",
    "\n",
    "tpot_classifier = TPOTClassifier(generations= 5, population_size= 24, offspring_size= 12,\n",
    "                                 verbosity= 2, early_stop= 12,\n",
    "                                 config_dict={'sklearn.ensemble.RandomForestClassifier': param}, #in this parameter you have to define which algo to use\n",
    "                                 cv = 4, scoring = 'accuracy')\n",
    "tpot_classifier.fit(X_train,y_train)"
   ]
  },
  {
   "cell_type": "code",
   "execution_count": null,
   "metadata": {},
   "outputs": [],
   "source": [
    "accuracy = tpot_classifier.score(X_test, y_test)\n",
    "print(accuracy)"
   ]
  },
  {
   "cell_type": "markdown",
   "metadata": {},
   "source": [
    "### Optimize hyperparameters of the model using Optuna\n",
    "\n",
    "The hyperparameters of the above algorithm are `n_estimators` and `max_depth` for which we can try different values to see if the model accuracy can be improved. The `objective` function is modified to accept a trial object. This trial has several methods for sampling hyperparameters. We create a study to run the hyperparameter optimization and finally read the best hyperparameters."
   ]
  },
  {
   "cell_type": "code",
   "execution_count": null,
   "metadata": {},
   "outputs": [],
   "source": [
    " #For single algorithmn when we are not choosing between condition\n",
    "    #n_estimators = trial.suggest_int('n_estimators', 200, 2000,10)\n",
    "    #max_depth = int(trial.suggest_float('max_depth', 10, 100, log=True))\n",
    "    #return sklearn.model_selection.cross_val_score(\n",
    "        #clf,X_train,y_train, n_jobs=-1, cv=3).mean()"
   ]
  },
  {
   "cell_type": "code",
   "execution_count": 58,
   "metadata": {},
   "outputs": [],
   "source": [
    "import optuna\n",
    "import sklearn.svm\n",
    "def objective(trial):#first we define an objective function ,trial is used to provide parameters that are used in hyper parameter for eg n estimator or maxdept\n",
    "\n",
    "    classifier = trial.suggest_categorical('classifier', ['RandomForest', 'SVC'])#this we use when we want to choose between algorithms otherwise we directly name algo like below in clf variable we do below\n",
    "   \n",
    "\n",
    "   \n",
    "    if classifier == 'RandomForest':\n",
    "        n_estimators = trial.suggest_int('n_estimators', 200, 2000,10)\n",
    "        max_depth = int(trial.suggest_float('max_depth', 10, 100, log=True))\n",
    "\n",
    "        clf = sklearn.ensemble.RandomForestClassifier(\n",
    "            n_estimators=n_estimators, max_depth=max_depth)\n",
    "    else:\n",
    "        c = trial.suggest_float('svc_c', 1e-10, 1e10, log=True)\n",
    "        \n",
    "        clf = sklearn.svm.SVC(C=c, gamma='auto')\n",
    "\n",
    "    return sklearn.model_selection.cross_val_score(\n",
    "        clf,X_train,y_train, n_jobs=-1, cv=3).mean()\n"
   ]
  },
  {
   "cell_type": "code",
   "execution_count": 59,
   "metadata": {},
   "outputs": [
    {
     "name": "stderr",
     "output_type": "stream",
     "text": [
      "\u001b[32m[I 2022-01-30 04:30:21,522]\u001b[0m A new study created in memory with name: no-name-d08b1dc1-2f82-4c0d-8c5f-811d82408f0d\u001b[0m\n",
      "\u001b[32m[I 2022-01-30 04:30:27,794]\u001b[0m Trial 0 finished with value: 0.7508050374621393 and parameters: {'classifier': 'RandomForest', 'n_estimators': 810, 'max_depth': 31.348163791565014}. Best is trial 0 with value: 0.7508050374621393.\u001b[0m\n",
      "\u001b[32m[I 2022-01-30 04:30:29,146]\u001b[0m Trial 1 finished with value: 0.640068547744301 and parameters: {'classifier': 'SVC', 'svc_c': 9.263698630838596e-07}. Best is trial 0 with value: 0.7508050374621393.\u001b[0m\n",
      "\u001b[32m[I 2022-01-30 04:30:29,218]\u001b[0m Trial 2 finished with value: 0.640068547744301 and parameters: {'classifier': 'SVC', 'svc_c': 176785.17646085419}. Best is trial 0 with value: 0.7508050374621393.\u001b[0m\n",
      "\u001b[32m[I 2022-01-30 04:30:29,338]\u001b[0m Trial 3 finished with value: 0.640068547744301 and parameters: {'classifier': 'SVC', 'svc_c': 9383099835.999996}. Best is trial 0 with value: 0.7508050374621393.\u001b[0m\n",
      "\u001b[32m[I 2022-01-30 04:30:34,315]\u001b[0m Trial 4 finished with value: 0.7410250278973378 and parameters: {'classifier': 'RandomForest', 'n_estimators': 1490, 'max_depth': 17.484493992374237}. Best is trial 0 with value: 0.7508050374621393.\u001b[0m\n",
      "\u001b[32m[I 2022-01-30 04:30:40,163]\u001b[0m Trial 5 finished with value: 0.7524310537223019 and parameters: {'classifier': 'RandomForest', 'n_estimators': 1800, 'max_depth': 34.65961181588767}. Best is trial 5 with value: 0.7524310537223019.\u001b[0m\n",
      "\u001b[32m[I 2022-01-30 04:30:41,091]\u001b[0m Trial 6 finished with value: 0.7443089430894309 and parameters: {'classifier': 'RandomForest', 'n_estimators': 270, 'max_depth': 21.37448518956133}. Best is trial 5 with value: 0.7524310537223019.\u001b[0m\n",
      "\u001b[32m[I 2022-01-30 04:30:41,147]\u001b[0m Trial 7 finished with value: 0.640068547744301 and parameters: {'classifier': 'SVC', 'svc_c': 6.683448436298816e-10}. Best is trial 5 with value: 0.7524310537223019.\u001b[0m\n",
      "\u001b[32m[I 2022-01-30 04:30:41,211]\u001b[0m Trial 8 finished with value: 0.640068547744301 and parameters: {'classifier': 'SVC', 'svc_c': 0.06556451399947763}. Best is trial 5 with value: 0.7524310537223019.\u001b[0m\n",
      "\u001b[32m[I 2022-01-30 04:30:41,331]\u001b[0m Trial 9 finished with value: 0.640068547744301 and parameters: {'classifier': 'SVC', 'svc_c': 0.0016153686651123756}. Best is trial 5 with value: 0.7524310537223019.\u001b[0m\n",
      "\u001b[32m[I 2022-01-30 04:30:46,787]\u001b[0m Trial 10 finished with value: 0.7491790212019768 and parameters: {'classifier': 'RandomForest', 'n_estimators': 1710, 'max_depth': 93.73660464956156}. Best is trial 5 with value: 0.7524310537223019.\u001b[0m\n",
      "\u001b[32m[I 2022-01-30 04:30:48,963]\u001b[0m Trial 11 finished with value: 0.7475370636059302 and parameters: {'classifier': 'RandomForest', 'n_estimators': 670, 'max_depth': 44.08503478061179}. Best is trial 5 with value: 0.7524310537223019.\u001b[0m\n",
      "\u001b[32m[I 2022-01-30 04:30:52,123]\u001b[0m Trial 12 finished with value: 0.7556751155746851 and parameters: {'classifier': 'RandomForest', 'n_estimators': 980, 'max_depth': 39.53327596371195}. Best is trial 12 with value: 0.7556751155746851.\u001b[0m\n",
      "\u001b[32m[I 2022-01-30 04:30:55,939]\u001b[0m Trial 13 finished with value: 0.7524390243902439 and parameters: {'classifier': 'RandomForest', 'n_estimators': 1180, 'max_depth': 56.26829342685033}. Best is trial 12 with value: 0.7556751155746851.\u001b[0m\n",
      "\u001b[32m[I 2022-01-30 04:30:59,835]\u001b[0m Trial 14 finished with value: 0.75242308305436 and parameters: {'classifier': 'RandomForest', 'n_estimators': 1190, 'max_depth': 67.32461449113774}. Best is trial 12 with value: 0.7556751155746851.\u001b[0m\n",
      "\u001b[32m[I 2022-01-30 04:31:03,555]\u001b[0m Trial 15 finished with value: 0.7524390243902439 and parameters: {'classifier': 'RandomForest', 'n_estimators': 1150, 'max_depth': 10.106494962236495}. Best is trial 12 with value: 0.7556751155746851.\u001b[0m\n",
      "\u001b[32m[I 2022-01-30 04:31:06,283]\u001b[0m Trial 16 finished with value: 0.7475450342738722 and parameters: {'classifier': 'RandomForest', 'n_estimators': 840, 'max_depth': 57.27828400833549}. Best is trial 12 with value: 0.7556751155746851.\u001b[0m\n",
      "\u001b[32m[I 2022-01-30 04:31:10,787]\u001b[0m Trial 17 finished with value: 0.7540650406504065 and parameters: {'classifier': 'RandomForest', 'n_estimators': 1390, 'max_depth': 56.28440814623742}. Best is trial 12 with value: 0.7556751155746851.\u001b[0m\n",
      "\u001b[32m[I 2022-01-30 04:31:15,492]\u001b[0m Trial 18 finished with value: 0.7508130081300813 and parameters: {'classifier': 'RandomForest', 'n_estimators': 1480, 'max_depth': 28.862241284815482}. Best is trial 12 with value: 0.7556751155746851.\u001b[0m\n",
      "\u001b[32m[I 2022-01-30 04:31:20,460]\u001b[0m Trial 19 finished with value: 0.75242308305436 and parameters: {'classifier': 'RandomForest', 'n_estimators': 1470, 'max_depth': 84.83685702932377}. Best is trial 12 with value: 0.7556751155746851.\u001b[0m\n",
      "\u001b[32m[I 2022-01-30 04:31:22,052]\u001b[0m Trial 20 finished with value: 0.7508209787980232 and parameters: {'classifier': 'RandomForest', 'n_estimators': 460, 'max_depth': 48.85430338470567}. Best is trial 12 with value: 0.7556751155746851.\u001b[0m\n",
      "\u001b[32m[I 2022-01-30 04:31:25,556]\u001b[0m Trial 21 finished with value: 0.7524390243902439 and parameters: {'classifier': 'RandomForest', 'n_estimators': 1030, 'max_depth': 10.046427032155899}. Best is trial 12 with value: 0.7556751155746851.\u001b[0m\n",
      "\u001b[32m[I 2022-01-30 04:31:28,964]\u001b[0m Trial 22 finished with value: 0.7491790212019768 and parameters: {'classifier': 'RandomForest', 'n_estimators': 980, 'max_depth': 10.18882536429938}. Best is trial 12 with value: 0.7556751155746851.\u001b[0m\n",
      "\u001b[32m[I 2022-01-30 04:31:33,468]\u001b[0m Trial 23 finished with value: 0.744285031085605 and parameters: {'classifier': 'RandomForest', 'n_estimators': 1300, 'max_depth': 16.359391409105857}. Best is trial 12 with value: 0.7556751155746851.\u001b[0m\n",
      "\u001b[32m[I 2022-01-30 04:31:39,964]\u001b[0m Trial 24 finished with value: 0.7459190180137095 and parameters: {'classifier': 'RandomForest', 'n_estimators': 1970, 'max_depth': 40.533221721083585}. Best is trial 12 with value: 0.7556751155746851.\u001b[0m\n",
      "\u001b[32m[I 2022-01-30 04:31:43,028]\u001b[0m Trial 25 finished with value: 0.7507970667941973 and parameters: {'classifier': 'RandomForest', 'n_estimators': 950, 'max_depth': 24.347158035065902}. Best is trial 12 with value: 0.7556751155746851.\u001b[0m\n",
      "\u001b[32m[I 2022-01-30 04:31:47,436]\u001b[0m Trial 26 finished with value: 0.7491790212019768 and parameters: {'classifier': 'RandomForest', 'n_estimators': 1330, 'max_depth': 71.24268930040566}. Best is trial 12 with value: 0.7556751155746851.\u001b[0m\n",
      "\u001b[32m[I 2022-01-30 04:31:49,548]\u001b[0m Trial 27 finished with value: 0.7475450342738722 and parameters: {'classifier': 'RandomForest', 'n_estimators': 620, 'max_depth': 56.375598681540076}. Best is trial 12 with value: 0.7556751155746851.\u001b[0m\n",
      "\u001b[32m[I 2022-01-30 04:31:53,733]\u001b[0m Trial 28 finished with value: 0.7540650406504065 and parameters: {'classifier': 'RandomForest', 'n_estimators': 1270, 'max_depth': 40.73753587068557}. Best is trial 12 with value: 0.7556751155746851.\u001b[0m\n",
      "\u001b[32m[I 2022-01-30 04:31:59,101]\u001b[0m Trial 29 finished with value: 0.7426749561613263 and parameters: {'classifier': 'RandomForest', 'n_estimators': 1600, 'max_depth': 37.33511832894632}. Best is trial 12 with value: 0.7556751155746851.\u001b[0m\n",
      "\u001b[32m[I 2022-01-30 04:32:03,413]\u001b[0m Trial 30 finished with value: 0.7508050374621393 and parameters: {'classifier': 'RandomForest', 'n_estimators': 1310, 'max_depth': 48.37774304125812}. Best is trial 12 with value: 0.7556751155746851.\u001b[0m\n",
      "\u001b[32m[I 2022-01-30 04:32:06,973]\u001b[0m Trial 31 finished with value: 0.7507970667941973 and parameters: {'classifier': 'RandomForest', 'n_estimators': 1110, 'max_depth': 27.164386122917115}. Best is trial 12 with value: 0.7556751155746851.\u001b[0m\n",
      "\u001b[32m[I 2022-01-30 04:32:10,989]\u001b[0m Trial 32 finished with value: 0.7491869918699187 and parameters: {'classifier': 'RandomForest', 'n_estimators': 1230, 'max_depth': 14.158275676813686}. Best is trial 12 with value: 0.7556751155746851.\u001b[0m\n",
      "\u001b[32m[I 2022-01-30 04:32:14,325]\u001b[0m Trial 33 finished with value: 0.7426749561613263 and parameters: {'classifier': 'RandomForest', 'n_estimators': 1020, 'max_depth': 39.333528440880315}. Best is trial 12 with value: 0.7556751155746851.\u001b[0m\n",
      "\u001b[32m[I 2022-01-30 04:32:14,445]\u001b[0m Trial 34 finished with value: 0.640068547744301 and parameters: {'classifier': 'SVC', 'svc_c': 2996.0302700752286}. Best is trial 12 with value: 0.7556751155746851.\u001b[0m\n"
     ]
    },
    {
     "name": "stderr",
     "output_type": "stream",
     "text": [
      "\u001b[32m[I 2022-01-30 04:32:17,317]\u001b[0m Trial 35 finished with value: 0.7524390243902439 and parameters: {'classifier': 'RandomForest', 'n_estimators': 870, 'max_depth': 69.63703100869576}. Best is trial 12 with value: 0.7556751155746851.\u001b[0m\n",
      "\u001b[32m[I 2022-01-30 04:32:17,437]\u001b[0m Trial 36 finished with value: 0.640068547744301 and parameters: {'classifier': 'SVC', 'svc_c': 5627550986.2809105}. Best is trial 12 with value: 0.7556751155746851.\u001b[0m\n",
      "\u001b[32m[I 2022-01-30 04:32:22,117]\u001b[0m Trial 37 finished with value: 0.7475450342738722 and parameters: {'classifier': 'RandomForest', 'n_estimators': 1370, 'max_depth': 46.73074488059959}. Best is trial 12 with value: 0.7556751155746851.\u001b[0m\n",
      "\u001b[32m[I 2022-01-30 04:32:24,845]\u001b[0m Trial 38 finished with value: 0.7491630798660928 and parameters: {'classifier': 'RandomForest', 'n_estimators': 820, 'max_depth': 76.43877692882351}. Best is trial 12 with value: 0.7556751155746851.\u001b[0m\n",
      "\u001b[32m[I 2022-01-30 04:32:24,997]\u001b[0m Trial 39 finished with value: 0.640068547744301 and parameters: {'classifier': 'SVC', 'svc_c': 2087.0651134492387}. Best is trial 12 with value: 0.7556751155746851.\u001b[0m\n",
      "\u001b[32m[I 2022-01-30 04:32:27,277]\u001b[0m Trial 40 finished with value: 0.7491790212019768 and parameters: {'classifier': 'RandomForest', 'n_estimators': 660, 'max_depth': 32.68123151398912}. Best is trial 12 with value: 0.7556751155746851.\u001b[0m\n",
      "\u001b[32m[I 2022-01-30 04:32:30,341]\u001b[0m Trial 41 finished with value: 0.7507970667941973 and parameters: {'classifier': 'RandomForest', 'n_estimators': 940, 'max_depth': 62.93551194754458}. Best is trial 12 with value: 0.7556751155746851.\u001b[0m\n",
      "\u001b[32m[I 2022-01-30 04:32:33,918]\u001b[0m Trial 42 finished with value: 0.7491790212019768 and parameters: {'classifier': 'RandomForest', 'n_estimators': 1090, 'max_depth': 52.68283648780366}. Best is trial 12 with value: 0.7556751155746851.\u001b[0m\n",
      "\u001b[32m[I 2022-01-30 04:32:36,862]\u001b[0m Trial 43 finished with value: 0.7491710505340348 and parameters: {'classifier': 'RandomForest', 'n_estimators': 850, 'max_depth': 79.25361675297528}. Best is trial 12 with value: 0.7556751155746851.\u001b[0m\n",
      "\u001b[32m[I 2022-01-30 04:32:40,438]\u001b[0m Trial 44 finished with value: 0.7491869918699187 and parameters: {'classifier': 'RandomForest', 'n_estimators': 1050, 'max_depth': 62.794381780526294}. Best is trial 12 with value: 0.7556751155746851.\u001b[0m\n",
      "\u001b[32m[I 2022-01-30 04:32:40,510]\u001b[0m Trial 45 finished with value: 0.640068547744301 and parameters: {'classifier': 'SVC', 'svc_c': 1.318629929891203e-10}. Best is trial 12 with value: 0.7556751155746851.\u001b[0m\n",
      "\u001b[32m[I 2022-01-30 04:32:43,046]\u001b[0m Trial 46 finished with value: 0.7459110473457676 and parameters: {'classifier': 'RandomForest', 'n_estimators': 730, 'max_depth': 42.886731589293106}. Best is trial 12 with value: 0.7556751155746851.\u001b[0m\n",
      "\u001b[32m[I 2022-01-30 04:32:48,302]\u001b[0m Trial 47 finished with value: 0.7524310537223019 and parameters: {'classifier': 'RandomForest', 'n_estimators': 1600, 'max_depth': 12.070760459500056}. Best is trial 12 with value: 0.7556751155746851.\u001b[0m\n",
      "\u001b[32m[I 2022-01-30 04:32:50,078]\u001b[0m Trial 48 finished with value: 0.7491710505340348 and parameters: {'classifier': 'RandomForest', 'n_estimators': 530, 'max_depth': 34.272822039364364}. Best is trial 12 with value: 0.7556751155746851.\u001b[0m\n",
      "\u001b[32m[I 2022-01-30 04:32:54,718]\u001b[0m Trial 49 finished with value: 0.7475450342738722 and parameters: {'classifier': 'RandomForest', 'n_estimators': 1400, 'max_depth': 99.57005341641802}. Best is trial 12 with value: 0.7556751155746851.\u001b[0m\n",
      "\u001b[32m[I 2022-01-30 04:32:54,830]\u001b[0m Trial 50 finished with value: 0.640068547744301 and parameters: {'classifier': 'SVC', 'svc_c': 1.9441201905937065e-06}. Best is trial 12 with value: 0.7556751155746851.\u001b[0m\n",
      "\u001b[32m[I 2022-01-30 04:32:59,030]\u001b[0m Trial 51 finished with value: 0.7491710505340348 and parameters: {'classifier': 'RandomForest', 'n_estimators': 1180, 'max_depth': 10.26720994780045}. Best is trial 12 with value: 0.7556751155746851.\u001b[0m\n",
      "\u001b[32m[I 2022-01-30 04:33:03,078]\u001b[0m Trial 52 finished with value: 0.7540650406504065 and parameters: {'classifier': 'RandomForest', 'n_estimators': 1190, 'max_depth': 12.456040156549511}. Best is trial 12 with value: 0.7556751155746851.\u001b[0m\n",
      "\u001b[32m[I 2022-01-30 04:33:06,342]\u001b[0m Trial 53 finished with value: 0.7508130081300813 and parameters: {'classifier': 'RandomForest', 'n_estimators': 900, 'max_depth': 12.398429861407381}. Best is trial 12 with value: 0.7556751155746851.\u001b[0m\n",
      "\u001b[32m[I 2022-01-30 04:33:10,950]\u001b[0m Trial 54 finished with value: 0.7507970667941973 and parameters: {'classifier': 'RandomForest', 'n_estimators': 1260, 'max_depth': 18.482208152018654}. Best is trial 12 with value: 0.7556751155746851.\u001b[0m\n",
      "\u001b[32m[I 2022-01-30 04:33:14,663]\u001b[0m Trial 55 finished with value: 0.7524390243902439 and parameters: {'classifier': 'RandomForest', 'n_estimators': 1130, 'max_depth': 11.947512058776615}. Best is trial 12 with value: 0.7556751155746851.\u001b[0m\n",
      "\u001b[32m[I 2022-01-30 04:33:18,559]\u001b[0m Trial 56 finished with value: 0.744293001753547 and parameters: {'classifier': 'RandomForest', 'n_estimators': 1170, 'max_depth': 28.912745360504463}. Best is trial 12 with value: 0.7556751155746851.\u001b[0m\n",
      "\u001b[32m[I 2022-01-30 04:33:23,591]\u001b[0m Trial 57 finished with value: 0.7508050374621393 and parameters: {'classifier': 'RandomForest', 'n_estimators': 1560, 'max_depth': 22.002067132409437}. Best is trial 12 with value: 0.7556751155746851.\u001b[0m\n",
      "\u001b[32m[I 2022-01-30 04:33:26,055]\u001b[0m Trial 58 finished with value: 0.7475450342738722 and parameters: {'classifier': 'RandomForest', 'n_estimators': 750, 'max_depth': 14.211976455672271}. Best is trial 12 with value: 0.7556751155746851.\u001b[0m\n",
      "\u001b[32m[I 2022-01-30 04:33:30,879]\u001b[0m Trial 59 finished with value: 0.7491869918699187 and parameters: {'classifier': 'RandomForest', 'n_estimators': 1460, 'max_depth': 10.628237135087197}. Best is trial 12 with value: 0.7556751155746851.\u001b[0m\n",
      "\u001b[32m[I 2022-01-30 04:33:34,527]\u001b[0m Trial 60 finished with value: 0.7556910569105691 and parameters: {'classifier': 'RandomForest', 'n_estimators': 1120, 'max_depth': 13.51820106947215}. Best is trial 60 with value: 0.7556910569105691.\u001b[0m\n",
      "\u001b[32m[I 2022-01-30 04:33:37,983]\u001b[0m Trial 61 finished with value: 0.744300972421489 and parameters: {'classifier': 'RandomForest', 'n_estimators': 1090, 'max_depth': 12.236338416859917}. Best is trial 60 with value: 0.7556910569105691.\u001b[0m\n",
      "\u001b[32m[I 2022-01-30 04:33:41,895]\u001b[0m Trial 62 finished with value: 0.7491869918699187 and parameters: {'classifier': 'RandomForest', 'n_estimators': 1230, 'max_depth': 13.78229573013186}. Best is trial 60 with value: 0.7556910569105691.\u001b[0m\n",
      "\u001b[32m[I 2022-01-30 04:33:45,471]\u001b[0m Trial 63 finished with value: 0.7491630798660928 and parameters: {'classifier': 'RandomForest', 'n_estimators': 1110, 'max_depth': 15.8230010415881}. Best is trial 60 with value: 0.7556910569105691.\u001b[0m\n",
      "\u001b[32m[I 2022-01-30 04:33:49,879]\u001b[0m Trial 64 finished with value: 0.7491790212019768 and parameters: {'classifier': 'RandomForest', 'n_estimators': 1390, 'max_depth': 11.454980338833588}. Best is trial 60 with value: 0.7556910569105691.\u001b[0m\n",
      "\u001b[32m[I 2022-01-30 04:33:53,104]\u001b[0m Trial 65 finished with value: 0.7491710505340348 and parameters: {'classifier': 'RandomForest', 'n_estimators': 1010, 'max_depth': 52.396273670532345}. Best is trial 60 with value: 0.7556910569105691.\u001b[0m\n",
      "\u001b[32m[I 2022-01-30 04:33:56,008]\u001b[0m Trial 66 finished with value: 0.7508130081300813 and parameters: {'classifier': 'RandomForest', 'n_estimators': 890, 'max_depth': 36.9052296284172}. Best is trial 60 with value: 0.7556910569105691.\u001b[0m\n",
      "\u001b[32m[I 2022-01-30 04:33:56,768]\u001b[0m Trial 67 finished with value: 0.7589351187629524 and parameters: {'classifier': 'RandomForest', 'n_estimators': 220, 'max_depth': 18.009940016100675}. Best is trial 67 with value: 0.7589351187629524.\u001b[0m\n",
      "\u001b[32m[I 2022-01-30 04:34:02,672]\u001b[0m Trial 68 finished with value: 0.744285031085605 and parameters: {'classifier': 'RandomForest', 'n_estimators': 1820, 'max_depth': 18.461228746312393}. Best is trial 67 with value: 0.7589351187629524.\u001b[0m\n",
      "\u001b[32m[I 2022-01-30 04:34:02,776]\u001b[0m Trial 69 finished with value: 0.640068547744301 and parameters: {'classifier': 'SVC', 'svc_c': 1985961.640687971}. Best is trial 67 with value: 0.7589351187629524.\u001b[0m\n"
     ]
    },
    {
     "name": "stderr",
     "output_type": "stream",
     "text": [
      "\u001b[32m[I 2022-01-30 04:34:03,856]\u001b[0m Trial 70 finished with value: 0.7459190180137095 and parameters: {'classifier': 'RandomForest', 'n_estimators': 310, 'max_depth': 16.11356316865976}. Best is trial 67 with value: 0.7589351187629524.\u001b[0m\n",
      "\u001b[32m[I 2022-01-30 04:34:04,600]\u001b[0m Trial 71 finished with value: 0.7508050374621393 and parameters: {'classifier': 'RandomForest', 'n_estimators': 220, 'max_depth': 11.070538732437106}. Best is trial 67 with value: 0.7589351187629524.\u001b[0m\n",
      "\u001b[32m[I 2022-01-30 04:34:08,640]\u001b[0m Trial 72 finished with value: 0.7475290929379882 and parameters: {'classifier': 'RandomForest', 'n_estimators': 1280, 'max_depth': 13.176807016829715}. Best is trial 67 with value: 0.7589351187629524.\u001b[0m\n",
      "\u001b[32m[I 2022-01-30 04:34:12,504]\u001b[0m Trial 73 finished with value: 0.7475530049418141 and parameters: {'classifier': 'RandomForest', 'n_estimators': 1150, 'max_depth': 11.436241114793308}. Best is trial 67 with value: 0.7589351187629524.\u001b[0m\n",
      "\u001b[32m[I 2022-01-30 04:34:13,744]\u001b[0m Trial 74 finished with value: 0.744285031085605 and parameters: {'classifier': 'RandomForest', 'n_estimators': 360, 'max_depth': 43.79087374413674}. Best is trial 67 with value: 0.7589351187629524.\u001b[0m\n",
      "\u001b[32m[I 2022-01-30 04:34:17,744]\u001b[0m Trial 75 finished with value: 0.7475530049418141 and parameters: {'classifier': 'RandomForest', 'n_estimators': 1220, 'max_depth': 14.76383409562157}. Best is trial 67 with value: 0.7589351187629524.\u001b[0m\n",
      "\u001b[32m[I 2022-01-30 04:34:22,080]\u001b[0m Trial 76 finished with value: 0.7556910569105691 and parameters: {'classifier': 'RandomForest', 'n_estimators': 1340, 'max_depth': 12.953581797675405}. Best is trial 67 with value: 0.7589351187629524.\u001b[0m\n",
      "\u001b[32m[I 2022-01-30 04:34:26,440]\u001b[0m Trial 77 finished with value: 0.7491710505340348 and parameters: {'classifier': 'RandomForest', 'n_estimators': 1350, 'max_depth': 12.814018854507927}. Best is trial 67 with value: 0.7589351187629524.\u001b[0m\n",
      "\u001b[32m[I 2022-01-30 04:34:31,624]\u001b[0m Trial 78 finished with value: 0.7459190180137095 and parameters: {'classifier': 'RandomForest', 'n_estimators': 1510, 'max_depth': 14.955747769354929}. Best is trial 67 with value: 0.7589351187629524.\u001b[0m\n",
      "\u001b[32m[I 2022-01-30 04:34:35,857]\u001b[0m Trial 79 finished with value: 0.7475450342738722 and parameters: {'classifier': 'RandomForest', 'n_estimators': 1320, 'max_depth': 17.241357098093914}. Best is trial 67 with value: 0.7589351187629524.\u001b[0m\n",
      "\u001b[32m[I 2022-01-30 04:34:35,993]\u001b[0m Trial 80 finished with value: 0.640068547744301 and parameters: {'classifier': 'SVC', 'svc_c': 6.309591077809067}. Best is trial 67 with value: 0.7589351187629524.\u001b[0m\n",
      "\u001b[32m[I 2022-01-30 04:34:39,441]\u001b[0m Trial 81 finished with value: 0.7507970667941973 and parameters: {'classifier': 'RandomForest', 'n_estimators': 1040, 'max_depth': 86.21839070518831}. Best is trial 67 with value: 0.7589351187629524.\u001b[0m\n",
      "\u001b[32m[I 2022-01-30 04:34:44,049]\u001b[0m Trial 82 finished with value: 0.7540490993145226 and parameters: {'classifier': 'RandomForest', 'n_estimators': 1410, 'max_depth': 21.33643143876591}. Best is trial 67 with value: 0.7589351187629524.\u001b[0m\n",
      "\u001b[32m[I 2022-01-30 04:34:48,881]\u001b[0m Trial 83 finished with value: 0.7589510600988363 and parameters: {'classifier': 'RandomForest', 'n_estimators': 1430, 'max_depth': 19.023859421808204}. Best is trial 83 with value: 0.7589510600988363.\u001b[0m\n",
      "\u001b[32m[I 2022-01-30 04:34:54,409]\u001b[0m Trial 84 finished with value: 0.7475370636059302 and parameters: {'classifier': 'RandomForest', 'n_estimators': 1440, 'max_depth': 21.844041234385024}. Best is trial 83 with value: 0.7589510600988363.\u001b[0m\n",
      "\u001b[32m[I 2022-01-30 04:35:00,057]\u001b[0m Trial 85 finished with value: 0.744293001753547 and parameters: {'classifier': 'RandomForest', 'n_estimators': 1700, 'max_depth': 24.475046322394864}. Best is trial 83 with value: 0.7589510600988363.\u001b[0m\n",
      "\u001b[32m[I 2022-01-30 04:35:05,721]\u001b[0m Trial 86 finished with value: 0.7540650406504065 and parameters: {'classifier': 'RandomForest', 'n_estimators': 1510, 'max_depth': 19.666894256832503}. Best is trial 83 with value: 0.7589510600988363.\u001b[0m\n",
      "\u001b[32m[I 2022-01-30 04:35:10,545]\u001b[0m Trial 87 finished with value: 0.7524390243902439 and parameters: {'classifier': 'RandomForest', 'n_estimators': 1510, 'max_depth': 20.012057301834513}. Best is trial 83 with value: 0.7589510600988363.\u001b[0m\n",
      "\u001b[32m[I 2022-01-30 04:35:16,578]\u001b[0m Trial 88 finished with value: 0.7540650406504065 and parameters: {'classifier': 'RandomForest', 'n_estimators': 1620, 'max_depth': 24.494337858306714}. Best is trial 83 with value: 0.7589510600988363.\u001b[0m\n",
      "\u001b[32m[I 2022-01-30 04:35:22,530]\u001b[0m Trial 89 finished with value: 0.7491710505340348 and parameters: {'classifier': 'RandomForest', 'n_estimators': 1690, 'max_depth': 25.80804169473916}. Best is trial 83 with value: 0.7589510600988363.\u001b[0m\n",
      "\u001b[32m[I 2022-01-30 04:35:28,850]\u001b[0m Trial 90 finished with value: 0.7508130081300813 and parameters: {'classifier': 'RandomForest', 'n_estimators': 1780, 'max_depth': 20.22995986103246}. Best is trial 83 with value: 0.7589510600988363.\u001b[0m\n",
      "\u001b[32m[I 2022-01-30 04:35:34,330]\u001b[0m Trial 91 finished with value: 0.7524310537223019 and parameters: {'classifier': 'RandomForest', 'n_estimators': 1580, 'max_depth': 17.221506747189636}. Best is trial 83 with value: 0.7589510600988363.\u001b[0m\n",
      "\u001b[32m[I 2022-01-30 04:35:39,642]\u001b[0m Trial 92 finished with value: 0.7507970667941973 and parameters: {'classifier': 'RandomForest', 'n_estimators': 1640, 'max_depth': 31.857485512460514}. Best is trial 83 with value: 0.7589510600988363.\u001b[0m\n",
      "\u001b[32m[I 2022-01-30 04:35:44,554]\u001b[0m Trial 93 finished with value: 0.7475530049418141 and parameters: {'classifier': 'RandomForest', 'n_estimators': 1540, 'max_depth': 28.840568421332737}. Best is trial 83 with value: 0.7589510600988363.\u001b[0m\n",
      "\u001b[32m[I 2022-01-30 04:35:49,194]\u001b[0m Trial 94 finished with value: 0.7507890961262554 and parameters: {'classifier': 'RandomForest', 'n_estimators': 1430, 'max_depth': 18.598723568630774}. Best is trial 83 with value: 0.7589510600988363.\u001b[0m\n",
      "\u001b[32m[I 2022-01-30 04:35:53,491]\u001b[0m Trial 95 finished with value: 0.7475530049418141 and parameters: {'classifier': 'RandomForest', 'n_estimators': 1360, 'max_depth': 24.10612405488312}. Best is trial 83 with value: 0.7589510600988363.\u001b[0m\n",
      "\u001b[32m[I 2022-01-30 04:35:57,587]\u001b[0m Trial 96 finished with value: 0.752415112386418 and parameters: {'classifier': 'RandomForest', 'n_estimators': 1270, 'max_depth': 19.731403416135638}. Best is trial 83 with value: 0.7589510600988363.\u001b[0m\n",
      "\u001b[32m[I 2022-01-30 04:36:02,795]\u001b[0m Trial 97 finished with value: 0.7508050374621393 and parameters: {'classifier': 'RandomForest', 'n_estimators': 1630, 'max_depth': 40.176747316477915}. Best is trial 83 with value: 0.7589510600988363.\u001b[0m\n",
      "\u001b[32m[I 2022-01-30 04:36:02,907]\u001b[0m Trial 98 finished with value: 0.640068547744301 and parameters: {'classifier': 'SVC', 'svc_c': 2.9981131658327083e-05}. Best is trial 83 with value: 0.7589510600988363.\u001b[0m\n",
      "\u001b[32m[I 2022-01-30 04:36:07,691]\u001b[0m Trial 99 finished with value: 0.75242308305436 and parameters: {'classifier': 'RandomForest', 'n_estimators': 1490, 'max_depth': 13.465259450572553}. Best is trial 83 with value: 0.7589510600988363.\u001b[0m\n"
     ]
    },
    {
     "name": "stdout",
     "output_type": "stream",
     "text": [
      "Accuracy: 0.7589510600988363\n",
      "Best hyperparameters: {'classifier': 'RandomForest', 'n_estimators': 1430, 'max_depth': 19.023859421808204}\n"
     ]
    }
   ],
   "source": [
    "study = optuna.create_study(direction='maximize')#create study will actually give the bigger space where training will happen use to maximize the accuracy find best hyper parameter\n",
    "study.optimize(objective, n_trials=100)# now here we r optimizing the maximum accuracy ,n_trial is no of trials or iteration we gonna perform\n",
    "trial = study.best_trial#getting best trial\n",
    "\n",
    "print('Accuracy: {}'.format(trial.value)) #accuracy is present in trial.value\n",
    "print(\"Best hyperparameters: {}\".format(trial.params))#best hyperparameter is present trial.params"
   ]
  },
  {
   "cell_type": "code",
   "execution_count": 60,
   "metadata": {},
   "outputs": [
    {
     "data": {
      "text/plain": [
       "FrozenTrial(number=83, values=[0.7589510600988363], datetime_start=datetime.datetime(2022, 1, 30, 4, 34, 44, 49273), datetime_complete=datetime.datetime(2022, 1, 30, 4, 34, 48, 881395), params={'classifier': 'RandomForest', 'n_estimators': 1430, 'max_depth': 19.023859421808204}, distributions={'classifier': CategoricalDistribution(choices=('RandomForest', 'SVC')), 'n_estimators': IntUniformDistribution(high=2000, low=200, step=10), 'max_depth': LogUniformDistribution(high=100.0, low=10.0)}, user_attrs={}, system_attrs={}, intermediate_values={}, trial_id=83, state=TrialState.COMPLETE, value=None)"
      ]
     },
     "execution_count": 60,
     "metadata": {},
     "output_type": "execute_result"
    }
   ],
   "source": [
    "trial"
   ]
  },
  {
   "cell_type": "code",
   "execution_count": 61,
   "metadata": {},
   "outputs": [
    {
     "data": {
      "text/plain": [
       "{'classifier': 'RandomForest',\n",
       " 'n_estimators': 1430,\n",
       " 'max_depth': 19.023859421808204}"
      ]
     },
     "execution_count": 61,
     "metadata": {},
     "output_type": "execute_result"
    }
   ],
   "source": [
    "study.best_params"
   ]
  },
  {
   "cell_type": "code",
   "execution_count": 63,
   "metadata": {},
   "outputs": [
    {
     "data": {
      "text/plain": [
       "RandomForestClassifier(max_depth=19, n_estimators=1430)"
      ]
     },
     "execution_count": 63,
     "metadata": {},
     "output_type": "execute_result"
    }
   ],
   "source": [
    "rf=RandomForestClassifier(n_estimators=1430,max_depth=19)\n",
    "rf.fit(X_train,y_train)"
   ]
  },
  {
   "cell_type": "code",
   "execution_count": 64,
   "metadata": {},
   "outputs": [
    {
     "name": "stdout",
     "output_type": "stream",
     "text": [
      "[[95 12]\n",
      " [13 34]]\n",
      "0.8376623376623377\n",
      "              precision    recall  f1-score   support\n",
      "\n",
      "           0       0.88      0.89      0.88       107\n",
      "           1       0.74      0.72      0.73        47\n",
      "\n",
      "    accuracy                           0.84       154\n",
      "   macro avg       0.81      0.81      0.81       154\n",
      "weighted avg       0.84      0.84      0.84       154\n",
      "\n"
     ]
    }
   ],
   "source": [
    "y_pred=rf.predict(X_test)\n",
    "print(confusion_matrix(y_test,y_pred))\n",
    "print(accuracy_score(y_test,y_pred))\n",
    "print(classification_report(y_test,y_pred))"
   ]
  },
  {
   "cell_type": "code",
   "execution_count": null,
   "metadata": {},
   "outputs": [],
   "source": []
  }
 ],
 "metadata": {
  "kernelspec": {
   "display_name": "Python 3 (ipykernel)",
   "language": "python",
   "name": "python3"
  },
  "language_info": {
   "codemirror_mode": {
    "name": "ipython",
    "version": 3
   },
   "file_extension": ".py",
   "mimetype": "text/x-python",
   "name": "python",
   "nbconvert_exporter": "python",
   "pygments_lexer": "ipython3",
   "version": "3.10.2"
  }
 },
 "nbformat": 4,
 "nbformat_minor": 4
}
