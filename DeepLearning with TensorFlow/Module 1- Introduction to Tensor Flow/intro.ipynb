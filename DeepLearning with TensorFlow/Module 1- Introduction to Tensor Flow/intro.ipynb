{
 "cells": [
  {
   "cell_type": "code",
   "execution_count": 1,
   "id": "986b0dcf",
   "metadata": {},
   "outputs": [],
   "source": [
    "import tensorflow as tf"
   ]
  },
  {
   "cell_type": "code",
   "execution_count": 2,
   "id": "62e02339",
   "metadata": {},
   "outputs": [
    {
     "name": "stdout",
     "output_type": "stream",
     "text": [
      "<module 'tensorflow._api.v2.version' from 'C:\\\\Python\\\\lib\\\\site-packages\\\\tensorflow\\\\_api\\\\v2\\\\version\\\\__init__.py'>\n"
     ]
    }
   ],
   "source": [
    "print(tf.version)"
   ]
  },
  {
   "cell_type": "code",
   "execution_count": 3,
   "id": "f8b4facd",
   "metadata": {},
   "outputs": [],
   "source": [
    "#What are tensors?\n",
    "#A tensor is a container for numerical data. It is the way we store the information that we'll use within our system"
   ]
  },
  {
   "cell_type": "code",
   "execution_count": 4,
   "id": "9b8d916b",
   "metadata": {},
   "outputs": [],
   "source": [
    "#Creating Tensors and thier datatypes\n",
    "string = tf.Variable(\"this is a string\", tf.string) #this will be ranked 0 becaue it has only 1 but when we have an array it will rank according to array elements 1,2,3,4 means we have more than 1 elemnet in an array\n",
    "number = tf.Variable(324, tf.int16)                 # tf.string datatype of a tensor\n",
    "floating = tf.Variable(3.567, tf.float64)\n",
    "#when we talk about vector value means more than one value\n",
    "#scalar means one value"
   ]
  },
  {
   "cell_type": "code",
   "execution_count": 5,
   "id": "849900b5",
   "metadata": {},
   "outputs": [],
   "source": [
    "#Rank/Degree Of a  Tensor(these terms simply mean the number of dimensions involved in the tensor)\n",
    "rank1_tensor = tf.Variable([\"Test\",\"ok\", \"yes\"], tf.string) #[\"Test\",\"ok\", \"yes\"] 1 dimension array so it is rank 1\n",
    "rank2_tensor = tf.Variable([[\"test\", \"ok\",'done'], [\"test\", \"yes\",'done']], tf.string)#[[\"test\", \"ok\"], [\"test\", \"yes\"]] it is list inside list means it is 2 dimensional rank2 tensor"
   ]
  },
  {
   "cell_type": "code",
   "execution_count": 6,
   "id": "c0e5ef4c",
   "metadata": {},
   "outputs": [
    {
     "data": {
      "text/plain": [
       "(<tf.Tensor: shape=(), dtype=int32, numpy=2>,\n",
       " <tf.Tensor: shape=(), dtype=int32, numpy=1>)"
      ]
     },
     "execution_count": 6,
     "metadata": {},
     "output_type": "execute_result"
    }
   ],
   "source": [
    "#To determine the rank of a tensor we can call the following method.\n",
    "tf.rank(rank2_tensor),tf.rank(rank1_tensor)\n",
    "#numpy=2 means its rank 2 tensor"
   ]
  },
  {
   "cell_type": "code",
   "execution_count": 7,
   "id": "41f5ae59",
   "metadata": {},
   "outputs": [
    {
     "data": {
      "text/plain": [
       "(TensorShape([2, 3]), TensorShape([3]))"
      ]
     },
     "execution_count": 7,
     "metadata": {},
     "output_type": "execute_result"
    }
   ],
   "source": [
    "#The shape of a tensor is simply the number of elements that exist in each dimension. TensorFlow will try to determine the shape of a tensor but sometimes it may be unknown.\n",
    "rank2_tensor.shape,rank1_tensor.shape\n",
    "#means it has 2 tensors and each has 3 column and in two dimensional each dimension uniform amount of data for eg [[1,2,3][4,5,6]] it cannot be possible if we write [[1,2,3][4,5]] "
   ]
  },
  {
   "cell_type": "code",
   "execution_count": 8,
   "id": "31859554",
   "metadata": {},
   "outputs": [],
   "source": [
    "#CHANGING THE SHAPE OF TENSORS\n",
    "tensor1 = tf.ones([1,2,3])  # tf.ones() creates a shape [1,2,3] tensor full of ones\n",
    "tensor2 = tf.reshape(tensor1, [2,3,1])  # reshape existing data to shape [2,3,1]\n",
    "tensor3 = tf.reshape(tensor2, [3, -1])  # -1 tells the tensor to calculate the size of the dimension in that place\n",
    "                                        # this will reshape the tensor to [3,2]\n",
    "                                                                             \n",
    "# The numer of elements in the reshaped tensor MUST match the number in the original"
   ]
  },
  {
   "cell_type": "code",
   "execution_count": 9,
   "id": "d41af35e",
   "metadata": {},
   "outputs": [
    {
     "name": "stdout",
     "output_type": "stream",
     "text": [
      "tf.Tensor(\n",
      "[[[1. 1. 1.]\n",
      "  [1. 1. 1.]]], shape=(1, 2, 3), dtype=float32)\n",
      "tf.Tensor(\n",
      "[[[1.]\n",
      "  [1.]\n",
      "  [1.]]\n",
      "\n",
      " [[1.]\n",
      "  [1.]\n",
      "  [1.]]], shape=(2, 3, 1), dtype=float32)\n",
      "tf.Tensor(\n",
      "[[1. 1.]\n",
      " [1. 1.]\n",
      " [1. 1.]], shape=(3, 2), dtype=float32)\n"
     ]
    }
   ],
   "source": [
    "print(tensor1)\n",
    "print(tensor2)\n",
    "print(tensor3)"
   ]
  },
  {
   "cell_type": "code",
   "execution_count": 10,
   "id": "5d3aa078",
   "metadata": {},
   "outputs": [
    {
     "ename": "SyntaxError",
     "evalue": "invalid syntax (1735247362.py, line 1)",
     "output_type": "error",
     "traceback": [
      "\u001b[1;36m  Input \u001b[1;32mIn [10]\u001b[1;36m\u001b[0m\n\u001b[1;33m    Types of Tensors:\u001b[0m\n\u001b[1;37m          ^\u001b[0m\n\u001b[1;31mSyntaxError\u001b[0m\u001b[1;31m:\u001b[0m invalid syntax\n"
     ]
    }
   ],
   "source": [
    "Types of Tensors:\n",
    "Variable can be changed\n",
    "Constant(immutable) cannot be chnged\n",
    "Placeholder\n",
    "SparseTensor"
   ]
  },
  {
   "cell_type": "code",
   "execution_count": 12,
   "id": "145f46b4",
   "metadata": {},
   "outputs": [
    {
     "name": "stdout",
     "output_type": "stream",
     "text": [
      "tf.Tensor(2, shape=(), dtype=int32)\n",
      "(4, 5)\n"
     ]
    }
   ],
   "source": [
    "#Slicing TENSORS\n",
    "# Creating a 2D tensor\n",
    "matrix = [[1,2,3,4,5],\n",
    "          [6,7,8,9,10],\n",
    "          [11,12,13,14,15],\n",
    "          [16,17,18,19,20]]\n",
    "\n",
    "tensor = tf.Variable(matrix, dtype=tf.int32) \n",
    "print(tf.rank(tensor))\n",
    "print(tensor.shape)"
   ]
  },
  {
   "cell_type": "code",
   "execution_count": 13,
   "id": "29958c46",
   "metadata": {},
   "outputs": [
    {
     "name": "stdout",
     "output_type": "stream",
     "text": [
      "tf.Tensor(3, shape=(), dtype=int32)\n"
     ]
    }
   ],
   "source": [
    "# Now lets select some different rows and columns from our tensor\n",
    "\n",
    "three = tensor[0,2]  # selects the 3rd element from the 1st row\n",
    "print(three)  # -> 3\n",
    "\n"
   ]
  },
  {
   "cell_type": "code",
   "execution_count": 14,
   "id": "459a1753",
   "metadata": {},
   "outputs": [
    {
     "name": "stdout",
     "output_type": "stream",
     "text": [
      "tf.Tensor([1 2 3 4 5], shape=(5,), dtype=int32)\n"
     ]
    }
   ],
   "source": [
    "row1 = tensor[0]  # selects the first row\n",
    "print(row1)\n"
   ]
  },
  {
   "cell_type": "code",
   "execution_count": 15,
   "id": "3164b264",
   "metadata": {},
   "outputs": [
    {
     "name": "stdout",
     "output_type": "stream",
     "text": [
      "tf.Tensor([ 1  6 11 16], shape=(4,), dtype=int32)\n"
     ]
    }
   ],
   "source": [
    "column1 = tensor[:, 0]  # selects the first column\n",
    "print(column1)"
   ]
  },
  {
   "cell_type": "code",
   "execution_count": 16,
   "id": "5840365e",
   "metadata": {},
   "outputs": [
    {
     "name": "stdout",
     "output_type": "stream",
     "text": [
      "tf.Tensor(\n",
      "[[ 6  7  8  9 10]\n",
      " [16 17 18 19 20]], shape=(2, 5), dtype=int32)\n"
     ]
    }
   ],
   "source": [
    "row_2_and_4 = tensor[1::2]  # selects second and fourth row\n",
    "print(row_2_and_4)"
   ]
  },
  {
   "cell_type": "code",
   "execution_count": 17,
   "id": "ca90f1a4",
   "metadata": {},
   "outputs": [
    {
     "name": "stdout",
     "output_type": "stream",
     "text": [
      "tf.Tensor([ 6 11], shape=(2,), dtype=int32)\n"
     ]
    }
   ],
   "source": [
    "column_1_in_row_2_and_3 = tensor[1:3, 0]\n",
    "print(column_1_in_row_2_and_3)"
   ]
  },
  {
   "cell_type": "code",
   "execution_count": 19,
   "id": "883d77f3",
   "metadata": {},
   "outputs": [
    {
     "name": "stdout",
     "output_type": "stream",
     "text": [
      "tf.Tensor(\n",
      "[[[[1. 1. 1. 1. 1.]\n",
      "   [1. 1. 1. 1. 1.]\n",
      "   [1. 1. 1. 1. 1.]\n",
      "   [1. 1. 1. 1. 1.]\n",
      "   [1. 1. 1. 1. 1.]]\n",
      "\n",
      "  [[1. 1. 1. 1. 1.]\n",
      "   [1. 1. 1. 1. 1.]\n",
      "   [1. 1. 1. 1. 1.]\n",
      "   [1. 1. 1. 1. 1.]\n",
      "   [1. 1. 1. 1. 1.]]\n",
      "\n",
      "  [[1. 1. 1. 1. 1.]\n",
      "   [1. 1. 1. 1. 1.]\n",
      "   [1. 1. 1. 1. 1.]\n",
      "   [1. 1. 1. 1. 1.]\n",
      "   [1. 1. 1. 1. 1.]]\n",
      "\n",
      "  [[1. 1. 1. 1. 1.]\n",
      "   [1. 1. 1. 1. 1.]\n",
      "   [1. 1. 1. 1. 1.]\n",
      "   [1. 1. 1. 1. 1.]\n",
      "   [1. 1. 1. 1. 1.]]\n",
      "\n",
      "  [[1. 1. 1. 1. 1.]\n",
      "   [1. 1. 1. 1. 1.]\n",
      "   [1. 1. 1. 1. 1.]\n",
      "   [1. 1. 1. 1. 1.]\n",
      "   [1. 1. 1. 1. 1.]]]\n",
      "\n",
      "\n",
      " [[[1. 1. 1. 1. 1.]\n",
      "   [1. 1. 1. 1. 1.]\n",
      "   [1. 1. 1. 1. 1.]\n",
      "   [1. 1. 1. 1. 1.]\n",
      "   [1. 1. 1. 1. 1.]]\n",
      "\n",
      "  [[1. 1. 1. 1. 1.]\n",
      "   [1. 1. 1. 1. 1.]\n",
      "   [1. 1. 1. 1. 1.]\n",
      "   [1. 1. 1. 1. 1.]\n",
      "   [1. 1. 1. 1. 1.]]\n",
      "\n",
      "  [[1. 1. 1. 1. 1.]\n",
      "   [1. 1. 1. 1. 1.]\n",
      "   [1. 1. 1. 1. 1.]\n",
      "   [1. 1. 1. 1. 1.]\n",
      "   [1. 1. 1. 1. 1.]]\n",
      "\n",
      "  [[1. 1. 1. 1. 1.]\n",
      "   [1. 1. 1. 1. 1.]\n",
      "   [1. 1. 1. 1. 1.]\n",
      "   [1. 1. 1. 1. 1.]\n",
      "   [1. 1. 1. 1. 1.]]\n",
      "\n",
      "  [[1. 1. 1. 1. 1.]\n",
      "   [1. 1. 1. 1. 1.]\n",
      "   [1. 1. 1. 1. 1.]\n",
      "   [1. 1. 1. 1. 1.]\n",
      "   [1. 1. 1. 1. 1.]]]\n",
      "\n",
      "\n",
      " [[[1. 1. 1. 1. 1.]\n",
      "   [1. 1. 1. 1. 1.]\n",
      "   [1. 1. 1. 1. 1.]\n",
      "   [1. 1. 1. 1. 1.]\n",
      "   [1. 1. 1. 1. 1.]]\n",
      "\n",
      "  [[1. 1. 1. 1. 1.]\n",
      "   [1. 1. 1. 1. 1.]\n",
      "   [1. 1. 1. 1. 1.]\n",
      "   [1. 1. 1. 1. 1.]\n",
      "   [1. 1. 1. 1. 1.]]\n",
      "\n",
      "  [[1. 1. 1. 1. 1.]\n",
      "   [1. 1. 1. 1. 1.]\n",
      "   [1. 1. 1. 1. 1.]\n",
      "   [1. 1. 1. 1. 1.]\n",
      "   [1. 1. 1. 1. 1.]]\n",
      "\n",
      "  [[1. 1. 1. 1. 1.]\n",
      "   [1. 1. 1. 1. 1.]\n",
      "   [1. 1. 1. 1. 1.]\n",
      "   [1. 1. 1. 1. 1.]\n",
      "   [1. 1. 1. 1. 1.]]\n",
      "\n",
      "  [[1. 1. 1. 1. 1.]\n",
      "   [1. 1. 1. 1. 1.]\n",
      "   [1. 1. 1. 1. 1.]\n",
      "   [1. 1. 1. 1. 1.]\n",
      "   [1. 1. 1. 1. 1.]]]\n",
      "\n",
      "\n",
      " [[[1. 1. 1. 1. 1.]\n",
      "   [1. 1. 1. 1. 1.]\n",
      "   [1. 1. 1. 1. 1.]\n",
      "   [1. 1. 1. 1. 1.]\n",
      "   [1. 1. 1. 1. 1.]]\n",
      "\n",
      "  [[1. 1. 1. 1. 1.]\n",
      "   [1. 1. 1. 1. 1.]\n",
      "   [1. 1. 1. 1. 1.]\n",
      "   [1. 1. 1. 1. 1.]\n",
      "   [1. 1. 1. 1. 1.]]\n",
      "\n",
      "  [[1. 1. 1. 1. 1.]\n",
      "   [1. 1. 1. 1. 1.]\n",
      "   [1. 1. 1. 1. 1.]\n",
      "   [1. 1. 1. 1. 1.]\n",
      "   [1. 1. 1. 1. 1.]]\n",
      "\n",
      "  [[1. 1. 1. 1. 1.]\n",
      "   [1. 1. 1. 1. 1.]\n",
      "   [1. 1. 1. 1. 1.]\n",
      "   [1. 1. 1. 1. 1.]\n",
      "   [1. 1. 1. 1. 1.]]\n",
      "\n",
      "  [[1. 1. 1. 1. 1.]\n",
      "   [1. 1. 1. 1. 1.]\n",
      "   [1. 1. 1. 1. 1.]\n",
      "   [1. 1. 1. 1. 1.]\n",
      "   [1. 1. 1. 1. 1.]]]\n",
      "\n",
      "\n",
      " [[[1. 1. 1. 1. 1.]\n",
      "   [1. 1. 1. 1. 1.]\n",
      "   [1. 1. 1. 1. 1.]\n",
      "   [1. 1. 1. 1. 1.]\n",
      "   [1. 1. 1. 1. 1.]]\n",
      "\n",
      "  [[1. 1. 1. 1. 1.]\n",
      "   [1. 1. 1. 1. 1.]\n",
      "   [1. 1. 1. 1. 1.]\n",
      "   [1. 1. 1. 1. 1.]\n",
      "   [1. 1. 1. 1. 1.]]\n",
      "\n",
      "  [[1. 1. 1. 1. 1.]\n",
      "   [1. 1. 1. 1. 1.]\n",
      "   [1. 1. 1. 1. 1.]\n",
      "   [1. 1. 1. 1. 1.]\n",
      "   [1. 1. 1. 1. 1.]]\n",
      "\n",
      "  [[1. 1. 1. 1. 1.]\n",
      "   [1. 1. 1. 1. 1.]\n",
      "   [1. 1. 1. 1. 1.]\n",
      "   [1. 1. 1. 1. 1.]\n",
      "   [1. 1. 1. 1. 1.]]\n",
      "\n",
      "  [[1. 1. 1. 1. 1.]\n",
      "   [1. 1. 1. 1. 1.]\n",
      "   [1. 1. 1. 1. 1.]\n",
      "   [1. 1. 1. 1. 1.]\n",
      "   [1. 1. 1. 1. 1.]]]], shape=(5, 5, 5, 5), dtype=float32)\n"
     ]
    }
   ],
   "source": [
    "t=tf.ones([5,5,5,5])\n",
    "print(t)"
   ]
  },
  {
   "cell_type": "code",
   "execution_count": null,
   "id": "8f72444c",
   "metadata": {},
   "outputs": [],
   "source": []
  }
 ],
 "metadata": {
  "kernelspec": {
   "display_name": "Python 3 (ipykernel)",
   "language": "python",
   "name": "python3"
  },
  "language_info": {
   "codemirror_mode": {
    "name": "ipython",
    "version": 3
   },
   "file_extension": ".py",
   "mimetype": "text/x-python",
   "name": "python",
   "nbconvert_exporter": "python",
   "pygments_lexer": "ipython3",
   "version": "3.10.2"
  }
 },
 "nbformat": 4,
 "nbformat_minor": 5
}
